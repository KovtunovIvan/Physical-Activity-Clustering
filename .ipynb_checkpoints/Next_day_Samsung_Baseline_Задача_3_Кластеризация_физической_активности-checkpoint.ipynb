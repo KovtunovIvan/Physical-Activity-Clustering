{
 "cells": [
  {
   "cell_type": "markdown",
   "metadata": {
    "id": "gQW8YiCQtnPi"
   },
   "source": [
    "# Продолжение Задачи 3"
   ]
  },
  {
   "cell_type": "markdown",
   "metadata": {
    "id": "cvhZOsW_ht4o"
   },
   "source": [
    "В современном мире существуют множество различных устройств (фитнес-браслетов, камер, датчиков и т.д.), которые собирают данные об активности пользователя. Эти сведения могут быть использованы, например, для отслеживания состояния здоровья человека и определение находится ли он сейчас в безопасности, что он делает и так далее.\n",
    "\n",
    "Данные, собранные с носимых устройств, которые отслеживают физическую активность пользователей, используются во множестве коммерческих приложений, включая здравоохранение, фитнес-тренировки, навигационную систему и так далее.\n",
    "\n",
    "В данной задаче вам предлагается, используя информацию, собранную с помощью трех Инерциальных измерительных модуля (IMU) и пульсометра."
   ]
  },
  {
   "cell_type": "markdown",
   "metadata": {
    "id": "KYtdUNv3huQu"
   },
   "source": [
    "**Датасет содержит по 54 столбца на строку, столбцы содержат следующие данные:**\n",
    "- 1 временная метка (с)\n",
    "- 2 частота сердечных сокращений (уд/мин)\n",
    "- 3-19 данные с датчиков на руке\n",
    "- 20-36 данные с датчиков на груди\n",
    "- 37-53 данные с датчиков на лодыжкн\n",
    "\n",
    "**Сенсорные данные IMU содержат следующие столбцы:**\n",
    "- 1 температура (°C)\n",
    "- 2-4 Данные 3D-ускорения (мс-2), масштаб: ±16g, разрешение: 13 бит\n",
    "- 5-7 Данные 3D-ускорения (мс-2), масштаб: ±6g, разрешение: 13 бит*\n",
    "- 8-10 данных 3D-гироскопа (рад/с)\n",
    "- 11-13 Данные 3D-магнитометра (мкТл)"
   ]
  },
  {
   "cell_type": "code",
   "execution_count": null,
   "metadata": {
    "colab": {
     "base_uri": "https://localhost:8080/"
    },
    "id": "FMopaZBZ3s--",
    "outputId": "9a2ef3ee-0d77-44e7-ef8d-ff66852ac114"
   },
   "outputs": [
    {
     "name": "stdout",
     "output_type": "stream",
     "text": [
      "Mounted at /content/gdrive\n"
     ]
    }
   ],
   "source": [
    "from google.colab import drive\n",
    "drive.mount('/content/gdrive')"
   ]
  },
  {
   "cell_type": "code",
   "execution_count": null,
   "metadata": {
    "colab": {
     "base_uri": "https://localhost:8080/"
    },
    "id": "qIPBBRji3yq5",
    "outputId": "cc802844-eea8-4c30-9a35-b830cc68c7f2"
   },
   "outputs": [
    {
     "name": "stdout",
     "output_type": "stream",
     "text": [
      "/content/gdrive/MyDrive/Я-профи подготовка по машинному обучению/Samsung Kaggle\n"
     ]
    }
   ],
   "source": [
    "import os\n",
    "\n",
    "os.chdir(r\"/content/gdrive/MyDrive/Я-профи подготовка по машинному обучению/Samsung Kaggle\")\n",
    "print(os.getcwd())"
   ]
  },
  {
   "cell_type": "code",
   "execution_count": 1,
   "metadata": {
    "id": "BDkioiQG39MA"
   },
   "outputs": [],
   "source": [
    "# иморитирование всех необходимых библиотек\n",
    "import pandas as pd\n",
    "import seaborn as sns\n",
    "import matplotlib.pyplot as plt"
   ]
  },
  {
   "cell_type": "code",
   "execution_count": 2,
   "metadata": {
    "colab": {
     "base_uri": "https://localhost:8080/",
     "height": 299
    },
    "id": "eveGACwA3-pC",
    "outputId": "2c6c58fe-6e98-4491-e498-89bd4dc013c8"
   },
   "outputs": [
    {
     "data": {
      "text/html": [
       "<div>\n",
       "<style scoped>\n",
       "    .dataframe tbody tr th:only-of-type {\n",
       "        vertical-align: middle;\n",
       "    }\n",
       "\n",
       "    .dataframe tbody tr th {\n",
       "        vertical-align: top;\n",
       "    }\n",
       "\n",
       "    .dataframe thead th {\n",
       "        text-align: right;\n",
       "    }\n",
       "</style>\n",
       "<table border=\"1\" class=\"dataframe\">\n",
       "  <thead>\n",
       "    <tr style=\"text-align: right;\">\n",
       "      <th></th>\n",
       "      <th>timestamp</th>\n",
       "      <th>handTemperature</th>\n",
       "      <th>handAcc16_1</th>\n",
       "      <th>handAcc16_2</th>\n",
       "      <th>handAcc16_3</th>\n",
       "      <th>handAcc6_1</th>\n",
       "      <th>handAcc6_2</th>\n",
       "      <th>handAcc6_3</th>\n",
       "      <th>handGyro1</th>\n",
       "      <th>handGyro2</th>\n",
       "      <th>...</th>\n",
       "      <th>ankleGyro2</th>\n",
       "      <th>ankleGyro3</th>\n",
       "      <th>ankleMagne1</th>\n",
       "      <th>ankleMagne2</th>\n",
       "      <th>ankleMagne3</th>\n",
       "      <th>ankleOrientation1</th>\n",
       "      <th>ankleOrientation2</th>\n",
       "      <th>ankleOrientation3</th>\n",
       "      <th>ankleOrientation4</th>\n",
       "      <th>subject_id</th>\n",
       "    </tr>\n",
       "  </thead>\n",
       "  <tbody>\n",
       "    <tr>\n",
       "      <th>0</th>\n",
       "      <td>252.75</td>\n",
       "      <td>34.8750</td>\n",
       "      <td>0.902847</td>\n",
       "      <td>7.45872</td>\n",
       "      <td>6.032490</td>\n",
       "      <td>1.006100</td>\n",
       "      <td>7.44575</td>\n",
       "      <td>6.303650</td>\n",
       "      <td>-0.021952</td>\n",
       "      <td>0.004114</td>\n",
       "      <td>...</td>\n",
       "      <td>-0.025606</td>\n",
       "      <td>0.030239</td>\n",
       "      <td>-14.5447</td>\n",
       "      <td>27.3336</td>\n",
       "      <td>-5.76620</td>\n",
       "      <td>0.206416</td>\n",
       "      <td>0.348212</td>\n",
       "      <td>0.763201</td>\n",
       "      <td>-0.503652</td>\n",
       "      <td>5</td>\n",
       "    </tr>\n",
       "    <tr>\n",
       "      <th>1</th>\n",
       "      <td>3652.45</td>\n",
       "      <td>29.7500</td>\n",
       "      <td>-4.069330</td>\n",
       "      <td>3.76168</td>\n",
       "      <td>8.279720</td>\n",
       "      <td>-5.972500</td>\n",
       "      <td>3.22273</td>\n",
       "      <td>6.908970</td>\n",
       "      <td>0.116054</td>\n",
       "      <td>-0.375968</td>\n",
       "      <td>...</td>\n",
       "      <td>-0.670163</td>\n",
       "      <td>1.786200</td>\n",
       "      <td>-32.8257</td>\n",
       "      <td>-15.7719</td>\n",
       "      <td>-1.31395</td>\n",
       "      <td>0.578332</td>\n",
       "      <td>-0.566734</td>\n",
       "      <td>0.405888</td>\n",
       "      <td>-0.423791</td>\n",
       "      <td>2</td>\n",
       "    </tr>\n",
       "    <tr>\n",
       "      <th>2</th>\n",
       "      <td>504.76</td>\n",
       "      <td>34.3750</td>\n",
       "      <td>-2.007540</td>\n",
       "      <td>-9.60180</td>\n",
       "      <td>0.773674</td>\n",
       "      <td>-1.803500</td>\n",
       "      <td>-9.58937</td>\n",
       "      <td>1.073680</td>\n",
       "      <td>0.020131</td>\n",
       "      <td>0.042189</td>\n",
       "      <td>...</td>\n",
       "      <td>-0.009741</td>\n",
       "      <td>-0.006579</td>\n",
       "      <td>-18.8171</td>\n",
       "      <td>16.3089</td>\n",
       "      <td>25.29280</td>\n",
       "      <td>0.139776</td>\n",
       "      <td>0.676586</td>\n",
       "      <td>0.393796</td>\n",
       "      <td>0.606316</td>\n",
       "      <td>8</td>\n",
       "    </tr>\n",
       "    <tr>\n",
       "      <th>3</th>\n",
       "      <td>2801.61</td>\n",
       "      <td>31.9375</td>\n",
       "      <td>-13.262200</td>\n",
       "      <td>5.85443</td>\n",
       "      <td>0.899334</td>\n",
       "      <td>-13.611500</td>\n",
       "      <td>5.91511</td>\n",
       "      <td>0.840377</td>\n",
       "      <td>1.715630</td>\n",
       "      <td>-0.050492</td>\n",
       "      <td>...</td>\n",
       "      <td>-0.163470</td>\n",
       "      <td>-3.495570</td>\n",
       "      <td>-26.7418</td>\n",
       "      <td>34.3566</td>\n",
       "      <td>21.32740</td>\n",
       "      <td>0.416303</td>\n",
       "      <td>0.783387</td>\n",
       "      <td>0.306464</td>\n",
       "      <td>0.345075</td>\n",
       "      <td>2</td>\n",
       "    </tr>\n",
       "    <tr>\n",
       "      <th>4</th>\n",
       "      <td>441.01</td>\n",
       "      <td>33.5000</td>\n",
       "      <td>-0.013940</td>\n",
       "      <td>8.66540</td>\n",
       "      <td>4.398210</td>\n",
       "      <td>0.144153</td>\n",
       "      <td>8.56816</td>\n",
       "      <td>4.822200</td>\n",
       "      <td>-0.006938</td>\n",
       "      <td>-0.007383</td>\n",
       "      <td>...</td>\n",
       "      <td>-0.028172</td>\n",
       "      <td>-0.003737</td>\n",
       "      <td>-17.7798</td>\n",
       "      <td>-3.9981</td>\n",
       "      <td>10.99500</td>\n",
       "      <td>0.171133</td>\n",
       "      <td>-0.748343</td>\n",
       "      <td>0.252988</td>\n",
       "      <td>-0.588807</td>\n",
       "      <td>6</td>\n",
       "    </tr>\n",
       "  </tbody>\n",
       "</table>\n",
       "<p>5 rows × 53 columns</p>\n",
       "</div>"
      ],
      "text/plain": [
       "   timestamp  handTemperature  handAcc16_1  handAcc16_2  handAcc16_3  \\\n",
       "0     252.75          34.8750     0.902847      7.45872     6.032490   \n",
       "1    3652.45          29.7500    -4.069330      3.76168     8.279720   \n",
       "2     504.76          34.3750    -2.007540     -9.60180     0.773674   \n",
       "3    2801.61          31.9375   -13.262200      5.85443     0.899334   \n",
       "4     441.01          33.5000    -0.013940      8.66540     4.398210   \n",
       "\n",
       "   handAcc6_1  handAcc6_2  handAcc6_3  handGyro1  handGyro2  ...  ankleGyro2  \\\n",
       "0    1.006100     7.44575    6.303650  -0.021952   0.004114  ...   -0.025606   \n",
       "1   -5.972500     3.22273    6.908970   0.116054  -0.375968  ...   -0.670163   \n",
       "2   -1.803500    -9.58937    1.073680   0.020131   0.042189  ...   -0.009741   \n",
       "3  -13.611500     5.91511    0.840377   1.715630  -0.050492  ...   -0.163470   \n",
       "4    0.144153     8.56816    4.822200  -0.006938  -0.007383  ...   -0.028172   \n",
       "\n",
       "   ankleGyro3  ankleMagne1  ankleMagne2  ankleMagne3  ankleOrientation1  \\\n",
       "0    0.030239     -14.5447      27.3336     -5.76620           0.206416   \n",
       "1    1.786200     -32.8257     -15.7719     -1.31395           0.578332   \n",
       "2   -0.006579     -18.8171      16.3089     25.29280           0.139776   \n",
       "3   -3.495570     -26.7418      34.3566     21.32740           0.416303   \n",
       "4   -0.003737     -17.7798      -3.9981     10.99500           0.171133   \n",
       "\n",
       "   ankleOrientation2  ankleOrientation3  ankleOrientation4  subject_id  \n",
       "0           0.348212           0.763201          -0.503652           5  \n",
       "1          -0.566734           0.405888          -0.423791           2  \n",
       "2           0.676586           0.393796           0.606316           8  \n",
       "3           0.783387           0.306464           0.345075           2  \n",
       "4          -0.748343           0.252988          -0.588807           6  \n",
       "\n",
       "[5 rows x 53 columns]"
      ]
     },
     "execution_count": 2,
     "metadata": {},
     "output_type": "execute_result"
    }
   ],
   "source": [
    "df = pd.read_csv(\"Physical_Activity_Monitoring_unlabeled.csv\")\n",
    "\n",
    "df.head()"
   ]
  },
  {
   "cell_type": "code",
   "execution_count": 3,
   "metadata": {
    "colab": {
     "base_uri": "https://localhost:8080/"
    },
    "id": "uGJULCfUirDm",
    "outputId": "f0009c76-37ce-429c-da31-61656c1bb988"
   },
   "outputs": [
    {
     "data": {
      "text/plain": [
       "Index(['timestamp', 'handTemperature', 'handAcc16_1', 'handAcc16_2',\n",
       "       'handAcc16_3', 'handAcc6_1', 'handAcc6_2', 'handAcc6_3', 'handGyro1',\n",
       "       'handGyro2', 'handGyro3', 'handMagne1', 'handMagne2', 'handMagne3',\n",
       "       'handOrientation1', 'handOrientation2', 'handOrientation3',\n",
       "       'handOrientation4', 'chestTemperature', 'chestAcc16_1', 'chestAcc16_2',\n",
       "       'chestAcc16_3', 'chestAcc6_1', 'chestAcc6_2', 'chestAcc6_3',\n",
       "       'chestGyro1', 'chestGyro2', 'chestGyro3', 'chestMagne1', 'chestMagne2',\n",
       "       'chestMagne3', 'chestOrientation1', 'chestOrientation2',\n",
       "       'chestOrientation3', 'chestOrientation4', 'ankleTemperature',\n",
       "       'ankleAcc16_1', 'ankleAcc16_2', 'ankleAcc16_3', 'ankleAcc6_1',\n",
       "       'ankleAcc6_2', 'ankleAcc6_3', 'ankleGyro1', 'ankleGyro2', 'ankleGyro3',\n",
       "       'ankleMagne1', 'ankleMagne2', 'ankleMagne3', 'ankleOrientation1',\n",
       "       'ankleOrientation2', 'ankleOrientation3', 'ankleOrientation4',\n",
       "       'subject_id'],\n",
       "      dtype='object')"
      ]
     },
     "execution_count": 3,
     "metadata": {},
     "output_type": "execute_result"
    }
   ],
   "source": [
    "df.columns"
   ]
  },
  {
   "cell_type": "markdown",
   "metadata": {
    "id": "KxOJi2O1BzPZ"
   },
   "source": [
    "## Исследование данных"
   ]
  },
  {
   "cell_type": "markdown",
   "metadata": {
    "id": "KE02wKUDB3Gu"
   },
   "source": [
    "Прежде чем переходить к непосредственному построению модели, в первую очередь необходимо исследовать имеющихся у вас набор данных:\n",
    "1. Какую задачу вы решаете (классификация, регрессия) и какая переменная является целевой?\n",
    "2. Сколько переменных в данных и какого они типа?\n",
    "3. Имеются ли в данных пропуски?"
   ]
  },
  {
   "cell_type": "code",
   "execution_count": 4,
   "metadata": {
    "colab": {
     "base_uri": "https://localhost:8080/"
    },
    "id": "3wrEXXL74F80",
    "outputId": "8d706348-dba9-4080-ba6d-557c9942f837"
   },
   "outputs": [
    {
     "data": {
      "text/plain": [
       "(534601, 53)"
      ]
     },
     "execution_count": 4,
     "metadata": {},
     "output_type": "execute_result"
    }
   ],
   "source": [
    "df.shape"
   ]
  },
  {
   "cell_type": "code",
   "execution_count": 5,
   "metadata": {
    "colab": {
     "base_uri": "https://localhost:8080/"
    },
    "id": "o0IRZ1aV4GSG",
    "outputId": "39db1ac0-e8f8-4360-a811-dbb4b60e9289"
   },
   "outputs": [
    {
     "data": {
      "text/plain": [
       "timestamp            float64\n",
       "handTemperature      float64\n",
       "handAcc16_1          float64\n",
       "handAcc16_2          float64\n",
       "handAcc16_3          float64\n",
       "handAcc6_1           float64\n",
       "handAcc6_2           float64\n",
       "handAcc6_3           float64\n",
       "handGyro1            float64\n",
       "handGyro2            float64\n",
       "handGyro3            float64\n",
       "handMagne1           float64\n",
       "handMagne2           float64\n",
       "handMagne3           float64\n",
       "handOrientation1     float64\n",
       "handOrientation2     float64\n",
       "handOrientation3     float64\n",
       "handOrientation4     float64\n",
       "chestTemperature     float64\n",
       "chestAcc16_1         float64\n",
       "chestAcc16_2         float64\n",
       "chestAcc16_3         float64\n",
       "chestAcc6_1          float64\n",
       "chestAcc6_2          float64\n",
       "chestAcc6_3          float64\n",
       "chestGyro1           float64\n",
       "chestGyro2           float64\n",
       "chestGyro3           float64\n",
       "chestMagne1          float64\n",
       "chestMagne2          float64\n",
       "chestMagne3          float64\n",
       "chestOrientation1    float64\n",
       "chestOrientation2    float64\n",
       "chestOrientation3    float64\n",
       "chestOrientation4    float64\n",
       "ankleTemperature     float64\n",
       "ankleAcc16_1         float64\n",
       "ankleAcc16_2         float64\n",
       "ankleAcc16_3         float64\n",
       "ankleAcc6_1          float64\n",
       "ankleAcc6_2          float64\n",
       "ankleAcc6_3          float64\n",
       "ankleGyro1           float64\n",
       "ankleGyro2           float64\n",
       "ankleGyro3           float64\n",
       "ankleMagne1          float64\n",
       "ankleMagne2          float64\n",
       "ankleMagne3          float64\n",
       "ankleOrientation1    float64\n",
       "ankleOrientation2    float64\n",
       "ankleOrientation3    float64\n",
       "ankleOrientation4    float64\n",
       "subject_id             int64\n",
       "dtype: object"
      ]
     },
     "execution_count": 5,
     "metadata": {},
     "output_type": "execute_result"
    }
   ],
   "source": [
    "df.dtypes"
   ]
  },
  {
   "cell_type": "code",
   "execution_count": 6,
   "metadata": {
    "colab": {
     "base_uri": "https://localhost:8080/",
     "height": 748
    },
    "id": "HN-r7jIz4JnW",
    "outputId": "14ced561-d1db-44c0-f138-25f9bace22d2"
   },
   "outputs": [
    {
     "name": "stderr",
     "output_type": "stream",
     "text": [
      "C:\\Users\\Ivan\\AppData\\Local\\Temp\\ipykernel_1548\\3605757767.py:8: DeprecationWarning: `np.bool` is a deprecated alias for the builtin `bool`. To silence this warning, use `bool` by itself. Doing this will not modify any behavior and is safe. If you specifically wanted the numpy scalar type, use `np.bool_` here.\n",
      "Deprecated in NumPy 1.20; for more details and guidance: https://numpy.org/devdocs/release/1.20.0-notes.html#deprecations\n",
      "  sns.heatmap(df_corr, mask=np.zeros_like(df_corr, dtype=np.bool), cmap = \"BrBG\",ax=ax)\n"
     ]
    },
    {
     "data": {
      "image/png": "[encoded data removed]",
      "text/plain": [
       "<Figure size 1500x1000 with 2 Axes>"
      ]
     },
     "metadata": {},
     "output_type": "display_data"
    }
   ],
   "source": [
    "from pandas.plotting import scatter_matrix\n",
    "import seaborn as sns\n",
    "import numpy as np\n",
    "\n",
    "df_corr = df.corr()\n",
    "\n",
    "f, ax = plt.subplots(figsize=(15, 10))\n",
    "sns.heatmap(df_corr, mask=np.zeros_like(df_corr, dtype=np.bool), cmap = \"BrBG\",ax=ax)\n",
    "plt.show()"
   ]
  },
  {
   "cell_type": "code",
   "execution_count": 8,
   "metadata": {
    "id": "iodW-65FhZPO"
   },
   "outputs": [],
   "source": [
    "corr_features = []\n",
    "\n",
    "for i in range(len()):\n",
    "    for j in range(i):\n",
    "        if abs(df_corr.iloc[i,j]) > 0.8:\n",
    "            colname = df_corr.columns[i]\n",
    "            colname = df_corr.columns[i]\n",
    "            corr_features.append(colname)"
   ]
  },
  {
   "cell_type": "code",
   "execution_count": null,
   "metadata": {
    "colab": {
     "base_uri": "https://localhost:8080/"
    },
    "id": "eRr90Ql1iX8_",
    "outputId": "30671bb8-db42-4d9c-ce37-1f520ee91318"
   },
   "outputs": [
    {
     "data": {
      "text/plain": [
       "['handAcc6_1',\n",
       " 'handAcc6_2',\n",
       " 'handAcc6_3',\n",
       " 'chestAcc6_1',\n",
       " 'chestAcc6_2',\n",
       " 'chestAcc6_3',\n",
       " 'chestOrientation4',\n",
       " 'ankleAcc6_1',\n",
       " 'ankleAcc6_2']"
      ]
     },
     "execution_count": 13,
     "metadata": {},
     "output_type": "execute_result"
    }
   ],
   "source": [
    "corr_features"
   ]
  },
  {
   "cell_type": "code",
   "execution_count": null,
   "metadata": {
    "colab": {
     "base_uri": "https://localhost:8080/"
    },
    "id": "4jqCpU-O4MIS",
    "outputId": "65c7ffc7-a4e6-43e3-bbec-2d052e545eb9"
   },
   "outputs": [
    {
     "data": {
      "text/plain": [
       "timestamp               0\n",
       "handTemperature      4041\n",
       "handAcc16_1          4041\n",
       "handAcc16_2          4041\n",
       "handAcc16_3          4041\n",
       "handAcc6_1           4041\n",
       "handAcc6_2           4041\n",
       "handAcc6_3           4041\n",
       "handGyro1            4041\n",
       "handGyro2            4041\n",
       "handGyro3            4041\n",
       "handMagne1           4041\n",
       "handMagne2           4041\n",
       "handMagne3           4041\n",
       "handOrientation1     4041\n",
       "handOrientation2     4041\n",
       "handOrientation3     4041\n",
       "handOrientation4     4041\n",
       "chestTemperature      809\n",
       "chestAcc16_1          809\n",
       "chestAcc16_2          809\n",
       "chestAcc16_3          809\n",
       "chestAcc6_1           809\n",
       "chestAcc6_2           809\n",
       "chestAcc6_3           809\n",
       "chestGyro1            809\n",
       "chestGyro2            809\n",
       "chestGyro3            809\n",
       "chestMagne1           809\n",
       "chestMagne2           809\n",
       "chestMagne3           809\n",
       "chestOrientation1     809\n",
       "chestOrientation2     809\n",
       "chestOrientation3     809\n",
       "chestOrientation4     809\n",
       "ankleTemperature     2546\n",
       "ankleAcc16_1         2546\n",
       "ankleAcc16_2         2546\n",
       "ankleAcc16_3         2546\n",
       "ankleAcc6_1          2546\n",
       "ankleAcc6_2          2546\n",
       "ankleAcc6_3          2546\n",
       "ankleGyro1           2546\n",
       "ankleGyro2           2546\n",
       "ankleGyro3           2546\n",
       "ankleMagne1          2546\n",
       "ankleMagne2          2546\n",
       "ankleMagne3          2546\n",
       "ankleOrientation1    2546\n",
       "ankleOrientation2    2546\n",
       "ankleOrientation3    2546\n",
       "ankleOrientation4    2546\n",
       "subject_id              0\n",
       "dtype: int64"
      ]
     },
     "execution_count": 14,
     "metadata": {},
     "output_type": "execute_result"
    }
   ],
   "source": [
    "df.isna().sum()"
   ]
  },
  {
   "cell_type": "markdown",
   "metadata": {
    "id": "VkkS6-okhlC3"
   },
   "source": [
    "## Предварительная обработка"
   ]
  },
  {
   "cell_type": "code",
   "execution_count": null,
   "metadata": {
    "id": "y56kwcUIdShn"
   },
   "outputs": [],
   "source": [
    "df = df.drop(columns=['timestamp', 'subject_id'])"
   ]
  },
  {
   "cell_type": "markdown",
   "metadata": {
    "id": "ekCBmicz4RB-"
   },
   "source": [
    "**Ка видим в данных у нас имеются множество пропущенных значений.**"
   ]
  },
  {
   "cell_type": "markdown",
   "metadata": {
    "id": "I8R7ke12j445"
   },
   "source": [
    "Так как датасет собран из реальных данных, то в жизни случается всякое.\n",
    "\n",
    "Пустые значения в данном случае могут быть обусловлены следующими факторами:\n",
    "* Потеря данных из-за использования беспроводных датчиков.\n",
    "* Проблемы с настройкой оборудования, вызывающие, например. потерю соединения с датчиками или системный сбой."
   ]
  },
  {
   "cell_type": "markdown",
   "metadata": {
    "id": "knqGN61w4UpU"
   },
   "source": [
    "Существуют две основные стратегии при работе с пропусками:\n",
    "1. Удаление пропущенных значений\n",
    "2. Заполнение пропусков\n",
    "\n",
    "**Удаление.**\n",
    "\n",
    "При удалении пропусков можно:\n",
    "1. Удалять как целиком какой-то признак (например, если больше 70% для этого признака это пропуски, тогда мы можем целиком удалить данный столбец):\n",
    "`df.drop(columns='name'])`\n",
    "\n",
    "2. Удалить можно объекты у которых имеются пропущенные значения, т.е. в данном случае мы удаляем строки. *Но будьте внимательны так как удалять из тестового набора данных не всегда возможно, иначе размерность ответов не совпадет.*\n",
    "`df.dropna()`"
   ]
  },
  {
   "cell_type": "code",
   "execution_count": null,
   "metadata": {
    "colab": {
     "base_uri": "https://localhost:8080/"
    },
    "id": "CnSfYzoSxdTg",
    "outputId": "5608a267-2075-431c-cd02-4fde09616005"
   },
   "outputs": [
    {
     "data": {
      "text/plain": [
       "handTemperature      4041\n",
       "handAcc16_1          4041\n",
       "handAcc16_2          4041\n",
       "handAcc16_3          4041\n",
       "handAcc6_1           4041\n",
       "handAcc6_2           4041\n",
       "handAcc6_3           4041\n",
       "handGyro1            4041\n",
       "handGyro2            4041\n",
       "handGyro3            4041\n",
       "handMagne1           4041\n",
       "handMagne2           4041\n",
       "handMagne3           4041\n",
       "handOrientation1     4041\n",
       "handOrientation2     4041\n",
       "handOrientation3     4041\n",
       "handOrientation4     4041\n",
       "chestTemperature      809\n",
       "chestAcc16_1          809\n",
       "chestAcc16_2          809\n",
       "chestAcc16_3          809\n",
       "chestAcc6_1           809\n",
       "chestAcc6_2           809\n",
       "chestAcc6_3           809\n",
       "chestGyro1            809\n",
       "chestGyro2            809\n",
       "chestGyro3            809\n",
       "chestMagne1           809\n",
       "chestMagne2           809\n",
       "chestMagne3           809\n",
       "chestOrientation1     809\n",
       "chestOrientation2     809\n",
       "chestOrientation3     809\n",
       "chestOrientation4     809\n",
       "ankleTemperature     2546\n",
       "ankleAcc16_1         2546\n",
       "ankleAcc16_2         2546\n",
       "ankleAcc16_3         2546\n",
       "ankleAcc6_1          2546\n",
       "ankleAcc6_2          2546\n",
       "ankleAcc6_3          2546\n",
       "ankleGyro1           2546\n",
       "ankleGyro2           2546\n",
       "ankleGyro3           2546\n",
       "ankleMagne1          2546\n",
       "ankleMagne2          2546\n",
       "ankleMagne3          2546\n",
       "ankleOrientation1    2546\n",
       "ankleOrientation2    2546\n",
       "ankleOrientation3    2546\n",
       "ankleOrientation4    2546\n",
       "dtype: int64"
      ]
     },
     "execution_count": 6,
     "metadata": {},
     "output_type": "execute_result"
    }
   ],
   "source": [
    "df.isna().sum() "
   ]
  },
  {
   "cell_type": "markdown",
   "metadata": {
    "id": "CG4OK21k4anT"
   },
   "source": [
    "**Заполнение.**\n",
    "\n",
    "При заполнении пропусков также существует множество различных стратегий:\n",
    "- заполнение пропусков с помощью **среднего/медианы/максимума/минимум** по данному признаку.\n",
    "- при категориальных признаках пропуски можно заполнить пропущенные значения с помощью наиболее часто встречающейся категории по данному признаку (**модой**).\n",
    "- используя **интерполяцию** - нахождение неизвестных промежуточных значений некоторой функции, по имеющемуся дискретному набору её известных значений, определенным способом. \n",
    "- используя различные **другие алгоритмы машинного обучения** для заполнения пропусков (представьте, что все строки с пропусками - это тестовый набор данных, для которого вам нужно вернуть ответ).\n",
    "\n",
    "Табличка в помощь:\n",
    "https://help.loginom.ru/userguide/processors/preprocessing/imputation.html"
   ]
  },
  {
   "cell_type": "code",
   "execution_count": null,
   "metadata": {
    "colab": {
     "base_uri": "https://localhost:8080/"
    },
    "id": "Rln4uDTy0Guw",
    "outputId": "c2c73cb0-e920-42a4-f704-6e3501840d53"
   },
   "outputs": [
    {
     "data": {
      "text/plain": [
       "handTemperature      4041\n",
       "handAcc16_1             0\n",
       "handAcc16_2             0\n",
       "handAcc16_3             0\n",
       "handAcc6_1              0\n",
       "handAcc6_2              0\n",
       "handAcc6_3              0\n",
       "handGyro1               0\n",
       "handGyro2               0\n",
       "handGyro3               0\n",
       "handMagne1              0\n",
       "handMagne2              0\n",
       "handMagne3              0\n",
       "handOrientation1        0\n",
       "handOrientation2        0\n",
       "handOrientation3        0\n",
       "handOrientation4        0\n",
       "chestTemperature        0\n",
       "chestAcc16_1            0\n",
       "chestAcc16_2            0\n",
       "chestAcc16_3            0\n",
       "chestAcc6_1             0\n",
       "chestAcc6_2             0\n",
       "chestAcc6_3             0\n",
       "chestGyro1              0\n",
       "chestGyro2              0\n",
       "chestGyro3              0\n",
       "chestMagne1             0\n",
       "chestMagne2             0\n",
       "chestMagne3             0\n",
       "chestOrientation1       0\n",
       "chestOrientation2       0\n",
       "chestOrientation3       0\n",
       "chestOrientation4       0\n",
       "ankleTemperature     2546\n",
       "ankleAcc16_1         2546\n",
       "ankleAcc16_2         2546\n",
       "ankleAcc16_3         2546\n",
       "ankleAcc6_1          2546\n",
       "ankleAcc6_2          2546\n",
       "ankleAcc6_3          2546\n",
       "ankleGyro1           2546\n",
       "ankleGyro2           2546\n",
       "ankleGyro3           2546\n",
       "ankleMagne1          2546\n",
       "ankleMagne2          2546\n",
       "ankleMagne3          2546\n",
       "ankleOrientation1    2546\n",
       "ankleOrientation2    2546\n",
       "ankleOrientation3    2546\n",
       "ankleOrientation4    2546\n",
       "dtype: int64"
      ]
     },
     "execution_count": 25,
     "metadata": {},
     "output_type": "execute_result"
    }
   ],
   "source": [
    "# Заполним пропуски с помощью среднего значения\n",
    "\n",
    "col_missing = ['handAcc16_1', 'handAcc16_2',\n",
    "               'handAcc16_3', 'handAcc6_1', 'handAcc6_2', 'handAcc6_3', 'handGyro1',\n",
    "               'handGyro2', 'handGyro3', 'handMagne1', 'handMagne2', 'handMagne3',\n",
    "               'handOrientation1', 'handOrientation2', 'handOrientation3', 'handOrientation4',\n",
    "               'chestTemperature', 'chestAcc16_1', 'chestAcc16_2',\n",
    "               'chestAcc16_3', 'chestAcc6_1', 'chestAcc6_2', 'chestAcc6_3',\n",
    "               'chestGyro1', 'chestGyro2', 'chestGyro3', 'chestMagne1', 'chestMagne2',\n",
    "               'chestMagne3', 'chestOrientation1', 'chestOrientation2',\n",
    "               'chestOrientation3', 'chestOrientation4']\n",
    "\n",
    "for i in col_missing:\n",
    "    df[i].fillna(df[i].mean(), inplace=True)\n",
    "\n",
    "df.isna().sum()"
   ]
  },
  {
   "cell_type": "code",
   "execution_count": null,
   "metadata": {
    "colab": {
     "base_uri": "https://localhost:8080/"
    },
    "id": "RTNeEB_04Dg9",
    "outputId": "04d19311-91e1-4e8f-d4dc-b8f907a4b190"
   },
   "outputs": [
    {
     "name": "stdout",
     "output_type": "stream",
     "text": [
      "CPU times: user 1h 11min 29s, sys: 1min 7s, total: 1h 12min 37s\n",
      "Wall time: 1h 12min 14s\n"
     ]
    }
   ],
   "source": [
    "%%time\n",
    "from sklearn.impute import KNNImputer\n",
    "\n",
    "imputer = KNNImputer(n_neighbors=25)\n",
    "imputer.fit_transform(df)\n",
    "\n",
    "df.isna().sum()"
   ]
  },
  {
   "cell_type": "code",
   "execution_count": null,
   "metadata": {
    "colab": {
     "base_uri": "https://localhost:8080/"
    },
    "id": "SWGlxR724YsB",
    "outputId": "37b33c8c-9ab7-46bd-d168-7e6a0da4cf7c"
   },
   "outputs": [
    {
     "data": {
      "text/plain": [
       "handTemperature      0\n",
       "handAcc16_1          0\n",
       "handAcc16_2          0\n",
       "handAcc16_3          0\n",
       "handAcc6_1           0\n",
       "handAcc6_2           0\n",
       "handAcc6_3           0\n",
       "handGyro1            0\n",
       "handGyro2            0\n",
       "handGyro3            0\n",
       "handMagne1           0\n",
       "handMagne2           0\n",
       "handMagne3           0\n",
       "handOrientation1     0\n",
       "handOrientation2     0\n",
       "handOrientation3     0\n",
       "handOrientation4     0\n",
       "chestTemperature     0\n",
       "chestAcc16_1         0\n",
       "chestAcc16_2         0\n",
       "chestAcc16_3         0\n",
       "chestAcc6_1          0\n",
       "chestAcc6_2          0\n",
       "chestAcc6_3          0\n",
       "chestGyro1           0\n",
       "chestGyro2           0\n",
       "chestGyro3           0\n",
       "chestMagne1          0\n",
       "chestMagne2          0\n",
       "chestMagne3          0\n",
       "chestOrientation1    0\n",
       "chestOrientation2    0\n",
       "chestOrientation3    0\n",
       "chestOrientation4    0\n",
       "ankleTemperature     0\n",
       "ankleAcc16_1         0\n",
       "ankleAcc16_2         0\n",
       "ankleAcc16_3         0\n",
       "ankleAcc6_1          0\n",
       "ankleAcc6_2          0\n",
       "ankleAcc6_3          0\n",
       "ankleGyro1           0\n",
       "ankleGyro2           0\n",
       "ankleGyro3           0\n",
       "ankleMagne1          0\n",
       "ankleMagne2          0\n",
       "ankleMagne3          0\n",
       "ankleOrientation1    0\n",
       "ankleOrientation2    0\n",
       "ankleOrientation3    0\n",
       "ankleOrientation4    0\n",
       "dtype: int64"
      ]
     },
     "execution_count": 19,
     "metadata": {},
     "output_type": "execute_result"
    }
   ],
   "source": [
    "df = df.interpolate()\n",
    "df.isna().sum()"
   ]
  },
  {
   "cell_type": "code",
   "execution_count": null,
   "metadata": {
    "colab": {
     "base_uri": "https://localhost:8080/",
     "height": 299
    },
    "id": "WQ0kptAnkBDB",
    "outputId": "6a408afd-815e-48d8-e7bc-d20ca1881e18"
   },
   "outputs": [
    {
     "data": {
      "text/html": [
       "\n",
       "  <div id=\"df-f12952b9-bcac-4e14-8ea4-376cfb8cc191\">\n",
       "    <div class=\"colab-df-container\">\n",
       "      <div>\n",
       "<style scoped>\n",
       "    .dataframe tbody tr th:only-of-type {\n",
       "        vertical-align: middle;\n",
       "    }\n",
       "\n",
       "    .dataframe tbody tr th {\n",
       "        vertical-align: top;\n",
       "    }\n",
       "\n",
       "    .dataframe thead th {\n",
       "        text-align: right;\n",
       "    }\n",
       "</style>\n",
       "<table border=\"1\" class=\"dataframe\">\n",
       "  <thead>\n",
       "    <tr style=\"text-align: right;\">\n",
       "      <th></th>\n",
       "      <th>handTemperature</th>\n",
       "      <th>handAcc16_1</th>\n",
       "      <th>handAcc16_2</th>\n",
       "      <th>handAcc16_3</th>\n",
       "      <th>handAcc6_1</th>\n",
       "      <th>handAcc6_2</th>\n",
       "      <th>handAcc6_3</th>\n",
       "      <th>handGyro1</th>\n",
       "      <th>handGyro2</th>\n",
       "      <th>handGyro3</th>\n",
       "      <th>...</th>\n",
       "      <th>ankleGyro1</th>\n",
       "      <th>ankleGyro2</th>\n",
       "      <th>ankleGyro3</th>\n",
       "      <th>ankleMagne1</th>\n",
       "      <th>ankleMagne2</th>\n",
       "      <th>ankleMagne3</th>\n",
       "      <th>ankleOrientation1</th>\n",
       "      <th>ankleOrientation2</th>\n",
       "      <th>ankleOrientation3</th>\n",
       "      <th>ankleOrientation4</th>\n",
       "    </tr>\n",
       "  </thead>\n",
       "  <tbody>\n",
       "    <tr>\n",
       "      <th>0</th>\n",
       "      <td>34.8750</td>\n",
       "      <td>0.902847</td>\n",
       "      <td>7.45872</td>\n",
       "      <td>6.032490</td>\n",
       "      <td>1.006100</td>\n",
       "      <td>7.44575</td>\n",
       "      <td>6.303650</td>\n",
       "      <td>-0.021952</td>\n",
       "      <td>0.004114</td>\n",
       "      <td>-0.000752</td>\n",
       "      <td>...</td>\n",
       "      <td>0.043954</td>\n",
       "      <td>-0.025606</td>\n",
       "      <td>0.030239</td>\n",
       "      <td>-14.5447</td>\n",
       "      <td>27.3336</td>\n",
       "      <td>-5.76620</td>\n",
       "      <td>0.206416</td>\n",
       "      <td>0.348212</td>\n",
       "      <td>0.763201</td>\n",
       "      <td>-0.503652</td>\n",
       "    </tr>\n",
       "    <tr>\n",
       "      <th>1</th>\n",
       "      <td>29.7500</td>\n",
       "      <td>-4.069330</td>\n",
       "      <td>3.76168</td>\n",
       "      <td>8.279720</td>\n",
       "      <td>-5.972500</td>\n",
       "      <td>3.22273</td>\n",
       "      <td>6.908970</td>\n",
       "      <td>0.116054</td>\n",
       "      <td>-0.375968</td>\n",
       "      <td>-0.012890</td>\n",
       "      <td>...</td>\n",
       "      <td>-0.319186</td>\n",
       "      <td>-0.670163</td>\n",
       "      <td>1.786200</td>\n",
       "      <td>-32.8257</td>\n",
       "      <td>-15.7719</td>\n",
       "      <td>-1.31395</td>\n",
       "      <td>0.578332</td>\n",
       "      <td>-0.566734</td>\n",
       "      <td>0.405888</td>\n",
       "      <td>-0.423791</td>\n",
       "    </tr>\n",
       "    <tr>\n",
       "      <th>2</th>\n",
       "      <td>34.3750</td>\n",
       "      <td>-2.007540</td>\n",
       "      <td>-9.60180</td>\n",
       "      <td>0.773674</td>\n",
       "      <td>-1.803500</td>\n",
       "      <td>-9.58937</td>\n",
       "      <td>1.073680</td>\n",
       "      <td>0.020131</td>\n",
       "      <td>0.042189</td>\n",
       "      <td>-0.011507</td>\n",
       "      <td>...</td>\n",
       "      <td>0.065654</td>\n",
       "      <td>-0.009741</td>\n",
       "      <td>-0.006579</td>\n",
       "      <td>-18.8171</td>\n",
       "      <td>16.3089</td>\n",
       "      <td>25.29280</td>\n",
       "      <td>0.139776</td>\n",
       "      <td>0.676586</td>\n",
       "      <td>0.393796</td>\n",
       "      <td>0.606316</td>\n",
       "    </tr>\n",
       "    <tr>\n",
       "      <th>3</th>\n",
       "      <td>31.9375</td>\n",
       "      <td>-13.262200</td>\n",
       "      <td>5.85443</td>\n",
       "      <td>0.899334</td>\n",
       "      <td>-13.611500</td>\n",
       "      <td>5.91511</td>\n",
       "      <td>0.840377</td>\n",
       "      <td>1.715630</td>\n",
       "      <td>-0.050492</td>\n",
       "      <td>-1.829000</td>\n",
       "      <td>...</td>\n",
       "      <td>2.970010</td>\n",
       "      <td>-0.163470</td>\n",
       "      <td>-3.495570</td>\n",
       "      <td>-26.7418</td>\n",
       "      <td>34.3566</td>\n",
       "      <td>21.32740</td>\n",
       "      <td>0.416303</td>\n",
       "      <td>0.783387</td>\n",
       "      <td>0.306464</td>\n",
       "      <td>0.345075</td>\n",
       "    </tr>\n",
       "    <tr>\n",
       "      <th>4</th>\n",
       "      <td>33.5000</td>\n",
       "      <td>-0.013940</td>\n",
       "      <td>8.66540</td>\n",
       "      <td>4.398210</td>\n",
       "      <td>0.144153</td>\n",
       "      <td>8.56816</td>\n",
       "      <td>4.822200</td>\n",
       "      <td>-0.006938</td>\n",
       "      <td>-0.007383</td>\n",
       "      <td>-0.032679</td>\n",
       "      <td>...</td>\n",
       "      <td>0.013953</td>\n",
       "      <td>-0.028172</td>\n",
       "      <td>-0.003737</td>\n",
       "      <td>-17.7798</td>\n",
       "      <td>-3.9981</td>\n",
       "      <td>10.99500</td>\n",
       "      <td>0.171133</td>\n",
       "      <td>-0.748343</td>\n",
       "      <td>0.252988</td>\n",
       "      <td>-0.588807</td>\n",
       "    </tr>\n",
       "  </tbody>\n",
       "</table>\n",
       "<p>5 rows × 51 columns</p>\n",
       "</div>\n",
       "      <button class=\"colab-df-convert\" onclick=\"convertToInteractive('df-f12952b9-bcac-4e14-8ea4-376cfb8cc191')\"\n",
       "              title=\"Convert this dataframe to an interactive table.\"\n",
       "              style=\"display:none;\">\n",
       "        \n",
       "  <svg xmlns=\"http://www.w3.org/2000/svg\" height=\"24px\"viewBox=\"0 0 24 24\"\n",
       "       width=\"24px\">\n",
       "    <path d=\"M0 0h24v24H0V0z\" fill=\"none\"/>\n",
       "    <path d=\"M18.56 5.44l.94 2.06.94-2.06 2.06-.94-2.06-.94-.94-2.06-.94 2.06-2.06.94zm-11 1L8.5 8.5l.94-2.06 2.06-.94-2.06-.94L8.5 2.5l-.94 2.06-2.06.94zm10 10l.94 2.06.94-2.06 2.06-.94-2.06-.94-.94-2.06-.94 2.06-2.06.94z\"/><path d=\"M17.41 7.96l-1.37-1.37c-.4-.4-.92-.59-1.43-.59-.52 0-1.04.2-1.43.59L10.3 9.45l-7.72 7.72c-.78.78-.78 2.05 0 2.83L4 21.41c.39.39.9.59 1.41.59.51 0 1.02-.2 1.41-.59l7.78-7.78 2.81-2.81c.8-.78.8-2.07 0-2.86zM5.41 20L4 18.59l7.72-7.72 1.47 1.35L5.41 20z\"/>\n",
       "  </svg>\n",
       "      </button>\n",
       "      \n",
       "  <style>\n",
       "    .colab-df-container {\n",
       "      display:flex;\n",
       "      flex-wrap:wrap;\n",
       "      gap: 12px;\n",
       "    }\n",
       "\n",
       "    .colab-df-convert {\n",
       "      background-color: #E8F0FE;\n",
       "      border: none;\n",
       "      border-radius: 50%;\n",
       "      cursor: pointer;\n",
       "      display: none;\n",
       "      fill: #1967D2;\n",
       "      height: 32px;\n",
       "      padding: 0 0 0 0;\n",
       "      width: 32px;\n",
       "    }\n",
       "\n",
       "    .colab-df-convert:hover {\n",
       "      background-color: #E2EBFA;\n",
       "      box-shadow: 0px 1px 2px rgba(60, 64, 67, 0.3), 0px 1px 3px 1px rgba(60, 64, 67, 0.15);\n",
       "      fill: #174EA6;\n",
       "    }\n",
       "\n",
       "    [theme=dark] .colab-df-convert {\n",
       "      background-color: #3B4455;\n",
       "      fill: #D2E3FC;\n",
       "    }\n",
       "\n",
       "    [theme=dark] .colab-df-convert:hover {\n",
       "      background-color: #434B5C;\n",
       "      box-shadow: 0px 1px 3px 1px rgba(0, 0, 0, 0.15);\n",
       "      filter: drop-shadow(0px 1px 2px rgba(0, 0, 0, 0.3));\n",
       "      fill: #FFFFFF;\n",
       "    }\n",
       "  </style>\n",
       "\n",
       "      <script>\n",
       "        const buttonEl =\n",
       "          document.querySelector('#df-f12952b9-bcac-4e14-8ea4-376cfb8cc191 button.colab-df-convert');\n",
       "        buttonEl.style.display =\n",
       "          google.colab.kernel.accessAllowed ? 'block' : 'none';\n",
       "\n",
       "        async function convertToInteractive(key) {\n",
       "          const element = document.querySelector('#df-f12952b9-bcac-4e14-8ea4-376cfb8cc191');\n",
       "          const dataTable =\n",
       "            await google.colab.kernel.invokeFunction('convertToInteractive',\n",
       "                                                     [key], {});\n",
       "          if (!dataTable) return;\n",
       "\n",
       "          const docLinkHtml = 'Like what you see? Visit the ' +\n",
       "            '<a target=\"_blank\" href=https://colab.research.google.com/notebooks/data_table.ipynb>data table notebook</a>'\n",
       "            + ' to learn more about interactive tables.';\n",
       "          element.innerHTML = '';\n",
       "          dataTable['output_type'] = 'display_data';\n",
       "          await google.colab.output.renderOutput(dataTable, element);\n",
       "          const docLink = document.createElement('div');\n",
       "          docLink.innerHTML = docLinkHtml;\n",
       "          element.appendChild(docLink);\n",
       "        }\n",
       "      </script>\n",
       "    </div>\n",
       "  </div>\n",
       "  "
      ],
      "text/plain": [
       "   handTemperature  handAcc16_1  handAcc16_2  handAcc16_3  handAcc6_1  \\\n",
       "0          34.8750     0.902847      7.45872     6.032490    1.006100   \n",
       "1          29.7500    -4.069330      3.76168     8.279720   -5.972500   \n",
       "2          34.3750    -2.007540     -9.60180     0.773674   -1.803500   \n",
       "3          31.9375   -13.262200      5.85443     0.899334  -13.611500   \n",
       "4          33.5000    -0.013940      8.66540     4.398210    0.144153   \n",
       "\n",
       "   handAcc6_2  handAcc6_3  handGyro1  handGyro2  handGyro3  ...  ankleGyro1  \\\n",
       "0     7.44575    6.303650  -0.021952   0.004114  -0.000752  ...    0.043954   \n",
       "1     3.22273    6.908970   0.116054  -0.375968  -0.012890  ...   -0.319186   \n",
       "2    -9.58937    1.073680   0.020131   0.042189  -0.011507  ...    0.065654   \n",
       "3     5.91511    0.840377   1.715630  -0.050492  -1.829000  ...    2.970010   \n",
       "4     8.56816    4.822200  -0.006938  -0.007383  -0.032679  ...    0.013953   \n",
       "\n",
       "   ankleGyro2  ankleGyro3  ankleMagne1  ankleMagne2  ankleMagne3  \\\n",
       "0   -0.025606    0.030239     -14.5447      27.3336     -5.76620   \n",
       "1   -0.670163    1.786200     -32.8257     -15.7719     -1.31395   \n",
       "2   -0.009741   -0.006579     -18.8171      16.3089     25.29280   \n",
       "3   -0.163470   -3.495570     -26.7418      34.3566     21.32740   \n",
       "4   -0.028172   -0.003737     -17.7798      -3.9981     10.99500   \n",
       "\n",
       "   ankleOrientation1  ankleOrientation2  ankleOrientation3  ankleOrientation4  \n",
       "0           0.206416           0.348212           0.763201          -0.503652  \n",
       "1           0.578332          -0.566734           0.405888          -0.423791  \n",
       "2           0.139776           0.676586           0.393796           0.606316  \n",
       "3           0.416303           0.783387           0.306464           0.345075  \n",
       "4           0.171133          -0.748343           0.252988          -0.588807  \n",
       "\n",
       "[5 rows x 51 columns]"
      ]
     },
     "execution_count": 16,
     "metadata": {},
     "output_type": "execute_result"
    }
   ],
   "source": [
    "df.head()"
   ]
  },
  {
   "cell_type": "code",
   "execution_count": null,
   "metadata": {
    "colab": {
     "base_uri": "https://localhost:8080/",
     "height": 488
    },
    "id": "ftuMBeBt1oi_",
    "outputId": "a43f9c77-37f6-4b1d-aeb9-56c30d2ded4d"
   },
   "outputs": [
    {
     "data": {
      "text/html": [
       "\n",
       "  <div id=\"df-cec0794d-f324-4994-8c20-db3d18ca1136\">\n",
       "    <div class=\"colab-df-container\">\n",
       "      <div>\n",
       "<style scoped>\n",
       "    .dataframe tbody tr th:only-of-type {\n",
       "        vertical-align: middle;\n",
       "    }\n",
       "\n",
       "    .dataframe tbody tr th {\n",
       "        vertical-align: top;\n",
       "    }\n",
       "\n",
       "    .dataframe thead th {\n",
       "        text-align: right;\n",
       "    }\n",
       "</style>\n",
       "<table border=\"1\" class=\"dataframe\">\n",
       "  <thead>\n",
       "    <tr style=\"text-align: right;\">\n",
       "      <th></th>\n",
       "      <th>handTemperature</th>\n",
       "      <th>handAcc16_1</th>\n",
       "      <th>handAcc16_2</th>\n",
       "      <th>handAcc16_3</th>\n",
       "      <th>handAcc6_1</th>\n",
       "      <th>handAcc6_2</th>\n",
       "      <th>handAcc6_3</th>\n",
       "      <th>handGyro1</th>\n",
       "      <th>handGyro2</th>\n",
       "      <th>handGyro3</th>\n",
       "      <th>...</th>\n",
       "      <th>ankleGyro1</th>\n",
       "      <th>ankleGyro2</th>\n",
       "      <th>ankleGyro3</th>\n",
       "      <th>ankleMagne1</th>\n",
       "      <th>ankleMagne2</th>\n",
       "      <th>ankleMagne3</th>\n",
       "      <th>ankleOrientation1</th>\n",
       "      <th>ankleOrientation2</th>\n",
       "      <th>ankleOrientation3</th>\n",
       "      <th>ankleOrientation4</th>\n",
       "    </tr>\n",
       "  </thead>\n",
       "  <tbody>\n",
       "    <tr>\n",
       "      <th>0</th>\n",
       "      <td>1.383760</td>\n",
       "      <td>0.757231</td>\n",
       "      <td>0.584776</td>\n",
       "      <td>0.510664</td>\n",
       "      <td>0.762694</td>\n",
       "      <td>0.616920</td>\n",
       "      <td>0.534955</td>\n",
       "      <td>-0.011434</td>\n",
       "      <td>-0.026646</td>\n",
       "      <td>-0.000382</td>\n",
       "      <td>...</td>\n",
       "      <td>0.027372</td>\n",
       "      <td>0.010026</td>\n",
       "      <td>0.013753</td>\n",
       "      <td>0.737136</td>\n",
       "      <td>1.134555</td>\n",
       "      <td>-1.145553</td>\n",
       "      <td>-0.510941</td>\n",
       "      <td>0.786246</td>\n",
       "      <td>1.336797</td>\n",
       "      <td>-0.708140</td>\n",
       "    </tr>\n",
       "    <tr>\n",
       "      <th>1</th>\n",
       "      <td>-1.542161</td>\n",
       "      <td>0.051790</td>\n",
       "      <td>0.072016</td>\n",
       "      <td>1.098267</td>\n",
       "      <td>-0.226447</td>\n",
       "      <td>0.000586</td>\n",
       "      <td>0.693620</td>\n",
       "      <td>0.107743</td>\n",
       "      <td>-0.437495</td>\n",
       "      <td>-0.007905</td>\n",
       "      <td>...</td>\n",
       "      <td>-0.351592</td>\n",
       "      <td>-1.032808</td>\n",
       "      <td>0.877262</td>\n",
       "      <td>-0.210992</td>\n",
       "      <td>-0.804863</td>\n",
       "      <td>-0.896624</td>\n",
       "      <td>0.725106</td>\n",
       "      <td>-0.851330</td>\n",
       "      <td>0.297695</td>\n",
       "      <td>-0.536677</td>\n",
       "    </tr>\n",
       "    <tr>\n",
       "      <th>2</th>\n",
       "      <td>1.098304</td>\n",
       "      <td>0.344312</td>\n",
       "      <td>-1.781430</td>\n",
       "      <td>-0.864405</td>\n",
       "      <td>0.364464</td>\n",
       "      <td>-1.869295</td>\n",
       "      <td>-0.835905</td>\n",
       "      <td>0.024908</td>\n",
       "      <td>0.014511</td>\n",
       "      <td>-0.007048</td>\n",
       "      <td>...</td>\n",
       "      <td>0.050018</td>\n",
       "      <td>0.035695</td>\n",
       "      <td>-0.004352</td>\n",
       "      <td>0.515551</td>\n",
       "      <td>0.638528</td>\n",
       "      <td>0.590981</td>\n",
       "      <td>-0.732416</td>\n",
       "      <td>1.373972</td>\n",
       "      <td>0.262530</td>\n",
       "      <td>1.674988</td>\n",
       "    </tr>\n",
       "    <tr>\n",
       "      <th>3</th>\n",
       "      <td>-0.293292</td>\n",
       "      <td>-1.252472</td>\n",
       "      <td>0.362269</td>\n",
       "      <td>-0.831548</td>\n",
       "      <td>-1.309192</td>\n",
       "      <td>0.393529</td>\n",
       "      <td>-0.897058</td>\n",
       "      <td>1.489085</td>\n",
       "      <td>-0.085672</td>\n",
       "      <td>-1.133556</td>\n",
       "      <td>...</td>\n",
       "      <td>3.080933</td>\n",
       "      <td>-0.213025</td>\n",
       "      <td>-1.720091</td>\n",
       "      <td>0.104544</td>\n",
       "      <td>1.450536</td>\n",
       "      <td>0.369273</td>\n",
       "      <td>0.186609</td>\n",
       "      <td>1.565125</td>\n",
       "      <td>0.008559</td>\n",
       "      <td>1.114097</td>\n",
       "    </tr>\n",
       "    <tr>\n",
       "      <th>4</th>\n",
       "      <td>0.598757</td>\n",
       "      <td>0.627159</td>\n",
       "      <td>0.752136</td>\n",
       "      <td>0.083334</td>\n",
       "      <td>0.640523</td>\n",
       "      <td>0.780732</td>\n",
       "      <td>0.146643</td>\n",
       "      <td>0.001532</td>\n",
       "      <td>-0.039074</td>\n",
       "      <td>-0.020171</td>\n",
       "      <td>...</td>\n",
       "      <td>-0.003937</td>\n",
       "      <td>0.005874</td>\n",
       "      <td>-0.002954</td>\n",
       "      <td>0.569350</td>\n",
       "      <td>-0.275132</td>\n",
       "      <td>-0.208420</td>\n",
       "      <td>-0.628202</td>\n",
       "      <td>-1.176374</td>\n",
       "      <td>-0.146954</td>\n",
       "      <td>-0.890970</td>\n",
       "    </tr>\n",
       "    <tr>\n",
       "      <th>...</th>\n",
       "      <td>...</td>\n",
       "      <td>...</td>\n",
       "      <td>...</td>\n",
       "      <td>...</td>\n",
       "      <td>...</td>\n",
       "      <td>...</td>\n",
       "      <td>...</td>\n",
       "      <td>...</td>\n",
       "      <td>...</td>\n",
       "      <td>...</td>\n",
       "      <td>...</td>\n",
       "      <td>...</td>\n",
       "      <td>...</td>\n",
       "      <td>...</td>\n",
       "      <td>...</td>\n",
       "      <td>...</td>\n",
       "      <td>...</td>\n",
       "      <td>...</td>\n",
       "      <td>...</td>\n",
       "      <td>...</td>\n",
       "      <td>...</td>\n",
       "    </tr>\n",
       "    <tr>\n",
       "      <th>534596</th>\n",
       "      <td>0.812849</td>\n",
       "      <td>-0.659715</td>\n",
       "      <td>0.202325</td>\n",
       "      <td>-0.310987</td>\n",
       "      <td>-0.753307</td>\n",
       "      <td>0.519869</td>\n",
       "      <td>-0.075309</td>\n",
       "      <td>-0.128408</td>\n",
       "      <td>0.805766</td>\n",
       "      <td>2.708128</td>\n",
       "      <td>...</td>\n",
       "      <td>-0.741746</td>\n",
       "      <td>0.738288</td>\n",
       "      <td>-0.422473</td>\n",
       "      <td>0.194368</td>\n",
       "      <td>-1.155074</td>\n",
       "      <td>0.497191</td>\n",
       "      <td>-0.139528</td>\n",
       "      <td>-1.093288</td>\n",
       "      <td>0.733590</td>\n",
       "      <td>-0.296111</td>\n",
       "    </tr>\n",
       "    <tr>\n",
       "      <th>534597</th>\n",
       "      <td>1.044781</td>\n",
       "      <td>-0.466995</td>\n",
       "      <td>0.037284</td>\n",
       "      <td>-0.400220</td>\n",
       "      <td>-0.517513</td>\n",
       "      <td>0.195118</td>\n",
       "      <td>-0.254573</td>\n",
       "      <td>0.028656</td>\n",
       "      <td>0.193082</td>\n",
       "      <td>1.962559</td>\n",
       "      <td>...</td>\n",
       "      <td>1.671709</td>\n",
       "      <td>-2.808538</td>\n",
       "      <td>-1.501461</td>\n",
       "      <td>-0.360189</td>\n",
       "      <td>1.335589</td>\n",
       "      <td>0.094996</td>\n",
       "      <td>0.251696</td>\n",
       "      <td>1.345437</td>\n",
       "      <td>0.198171</td>\n",
       "      <td>1.414949</td>\n",
       "    </tr>\n",
       "    <tr>\n",
       "      <th>534598</th>\n",
       "      <td>1.276714</td>\n",
       "      <td>-0.274276</td>\n",
       "      <td>-0.127756</td>\n",
       "      <td>-0.489454</td>\n",
       "      <td>-0.281719</td>\n",
       "      <td>-0.129634</td>\n",
       "      <td>-0.433837</td>\n",
       "      <td>0.185719</td>\n",
       "      <td>-0.419602</td>\n",
       "      <td>1.216991</td>\n",
       "      <td>...</td>\n",
       "      <td>-0.792196</td>\n",
       "      <td>-0.003788</td>\n",
       "      <td>-0.198810</td>\n",
       "      <td>-1.085757</td>\n",
       "      <td>0.831770</td>\n",
       "      <td>-0.874481</td>\n",
       "      <td>0.669670</td>\n",
       "      <td>0.696299</td>\n",
       "      <td>1.318086</td>\n",
       "      <td>0.699344</td>\n",
       "    </tr>\n",
       "    <tr>\n",
       "      <th>534599</th>\n",
       "      <td>-2.505574</td>\n",
       "      <td>1.404064</td>\n",
       "      <td>0.997765</td>\n",
       "      <td>-3.439181</td>\n",
       "      <td>1.803451</td>\n",
       "      <td>0.371647</td>\n",
       "      <td>-2.727570</td>\n",
       "      <td>3.067928</td>\n",
       "      <td>2.949408</td>\n",
       "      <td>0.054569</td>\n",
       "      <td>...</td>\n",
       "      <td>-3.595791</td>\n",
       "      <td>0.621058</td>\n",
       "      <td>-2.744020</td>\n",
       "      <td>-0.279940</td>\n",
       "      <td>-0.593700</td>\n",
       "      <td>1.398596</td>\n",
       "      <td>-0.990360</td>\n",
       "      <td>-1.266513</td>\n",
       "      <td>-1.047464</td>\n",
       "      <td>-0.906017</td>\n",
       "    </tr>\n",
       "    <tr>\n",
       "      <th>534600</th>\n",
       "      <td>0.491711</td>\n",
       "      <td>-0.679813</td>\n",
       "      <td>-0.171480</td>\n",
       "      <td>-0.379609</td>\n",
       "      <td>-0.666399</td>\n",
       "      <td>-0.181846</td>\n",
       "      <td>-0.373532</td>\n",
       "      <td>0.006009</td>\n",
       "      <td>-0.049676</td>\n",
       "      <td>0.001427</td>\n",
       "      <td>...</td>\n",
       "      <td>0.000946</td>\n",
       "      <td>0.025501</td>\n",
       "      <td>0.001756</td>\n",
       "      <td>1.439027</td>\n",
       "      <td>-0.833537</td>\n",
       "      <td>0.025650</td>\n",
       "      <td>-0.120129</td>\n",
       "      <td>-1.109493</td>\n",
       "      <td>-0.221439</td>\n",
       "      <td>-0.874713</td>\n",
       "    </tr>\n",
       "  </tbody>\n",
       "</table>\n",
       "<p>534601 rows × 51 columns</p>\n",
       "</div>\n",
       "      <button class=\"colab-df-convert\" onclick=\"convertToInteractive('df-cec0794d-f324-4994-8c20-db3d18ca1136')\"\n",
       "              title=\"Convert this dataframe to an interactive table.\"\n",
       "              style=\"display:none;\">\n",
       "        \n",
       "  <svg xmlns=\"http://www.w3.org/2000/svg\" height=\"24px\"viewBox=\"0 0 24 24\"\n",
       "       width=\"24px\">\n",
       "    <path d=\"M0 0h24v24H0V0z\" fill=\"none\"/>\n",
       "    <path d=\"M18.56 5.44l.94 2.06.94-2.06 2.06-.94-2.06-.94-.94-2.06-.94 2.06-2.06.94zm-11 1L8.5 8.5l.94-2.06 2.06-.94-2.06-.94L8.5 2.5l-.94 2.06-2.06.94zm10 10l.94 2.06.94-2.06 2.06-.94-2.06-.94-.94-2.06-.94 2.06-2.06.94z\"/><path d=\"M17.41 7.96l-1.37-1.37c-.4-.4-.92-.59-1.43-.59-.52 0-1.04.2-1.43.59L10.3 9.45l-7.72 7.72c-.78.78-.78 2.05 0 2.83L4 21.41c.39.39.9.59 1.41.59.51 0 1.02-.2 1.41-.59l7.78-7.78 2.81-2.81c.8-.78.8-2.07 0-2.86zM5.41 20L4 18.59l7.72-7.72 1.47 1.35L5.41 20z\"/>\n",
       "  </svg>\n",
       "      </button>\n",
       "      \n",
       "  <style>\n",
       "    .colab-df-container {\n",
       "      display:flex;\n",
       "      flex-wrap:wrap;\n",
       "      gap: 12px;\n",
       "    }\n",
       "\n",
       "    .colab-df-convert {\n",
       "      background-color: #E8F0FE;\n",
       "      border: none;\n",
       "      border-radius: 50%;\n",
       "      cursor: pointer;\n",
       "      display: none;\n",
       "      fill: #1967D2;\n",
       "      height: 32px;\n",
       "      padding: 0 0 0 0;\n",
       "      width: 32px;\n",
       "    }\n",
       "\n",
       "    .colab-df-convert:hover {\n",
       "      background-color: #E2EBFA;\n",
       "      box-shadow: 0px 1px 2px rgba(60, 64, 67, 0.3), 0px 1px 3px 1px rgba(60, 64, 67, 0.15);\n",
       "      fill: #174EA6;\n",
       "    }\n",
       "\n",
       "    [theme=dark] .colab-df-convert {\n",
       "      background-color: #3B4455;\n",
       "      fill: #D2E3FC;\n",
       "    }\n",
       "\n",
       "    [theme=dark] .colab-df-convert:hover {\n",
       "      background-color: #434B5C;\n",
       "      box-shadow: 0px 1px 3px 1px rgba(0, 0, 0, 0.15);\n",
       "      filter: drop-shadow(0px 1px 2px rgba(0, 0, 0, 0.3));\n",
       "      fill: #FFFFFF;\n",
       "    }\n",
       "  </style>\n",
       "\n",
       "      <script>\n",
       "        const buttonEl =\n",
       "          document.querySelector('#df-cec0794d-f324-4994-8c20-db3d18ca1136 button.colab-df-convert');\n",
       "        buttonEl.style.display =\n",
       "          google.colab.kernel.accessAllowed ? 'block' : 'none';\n",
       "\n",
       "        async function convertToInteractive(key) {\n",
       "          const element = document.querySelector('#df-cec0794d-f324-4994-8c20-db3d18ca1136');\n",
       "          const dataTable =\n",
       "            await google.colab.kernel.invokeFunction('convertToInteractive',\n",
       "                                                     [key], {});\n",
       "          if (!dataTable) return;\n",
       "\n",
       "          const docLinkHtml = 'Like what you see? Visit the ' +\n",
       "            '<a target=\"_blank\" href=https://colab.research.google.com/notebooks/data_table.ipynb>data table notebook</a>'\n",
       "            + ' to learn more about interactive tables.';\n",
       "          element.innerHTML = '';\n",
       "          dataTable['output_type'] = 'display_data';\n",
       "          await google.colab.output.renderOutput(dataTable, element);\n",
       "          const docLink = document.createElement('div');\n",
       "          docLink.innerHTML = docLinkHtml;\n",
       "          element.appendChild(docLink);\n",
       "        }\n",
       "      </script>\n",
       "    </div>\n",
       "  </div>\n",
       "  "
      ],
      "text/plain": [
       "        handTemperature  handAcc16_1  handAcc16_2  handAcc16_3  handAcc6_1  \\\n",
       "0              1.383760     0.757231     0.584776     0.510664    0.762694   \n",
       "1             -1.542161     0.051790     0.072016     1.098267   -0.226447   \n",
       "2              1.098304     0.344312    -1.781430    -0.864405    0.364464   \n",
       "3             -0.293292    -1.252472     0.362269    -0.831548   -1.309192   \n",
       "4              0.598757     0.627159     0.752136     0.083334    0.640523   \n",
       "...                 ...          ...          ...          ...         ...   \n",
       "534596         0.812849    -0.659715     0.202325    -0.310987   -0.753307   \n",
       "534597         1.044781    -0.466995     0.037284    -0.400220   -0.517513   \n",
       "534598         1.276714    -0.274276    -0.127756    -0.489454   -0.281719   \n",
       "534599        -2.505574     1.404064     0.997765    -3.439181    1.803451   \n",
       "534600         0.491711    -0.679813    -0.171480    -0.379609   -0.666399   \n",
       "\n",
       "        handAcc6_2  handAcc6_3  handGyro1  handGyro2  handGyro3  ...  \\\n",
       "0         0.616920    0.534955  -0.011434  -0.026646  -0.000382  ...   \n",
       "1         0.000586    0.693620   0.107743  -0.437495  -0.007905  ...   \n",
       "2        -1.869295   -0.835905   0.024908   0.014511  -0.007048  ...   \n",
       "3         0.393529   -0.897058   1.489085  -0.085672  -1.133556  ...   \n",
       "4         0.780732    0.146643   0.001532  -0.039074  -0.020171  ...   \n",
       "...            ...         ...        ...        ...        ...  ...   \n",
       "534596    0.519869   -0.075309  -0.128408   0.805766   2.708128  ...   \n",
       "534597    0.195118   -0.254573   0.028656   0.193082   1.962559  ...   \n",
       "534598   -0.129634   -0.433837   0.185719  -0.419602   1.216991  ...   \n",
       "534599    0.371647   -2.727570   3.067928   2.949408   0.054569  ...   \n",
       "534600   -0.181846   -0.373532   0.006009  -0.049676   0.001427  ...   \n",
       "\n",
       "        ankleGyro1  ankleGyro2  ankleGyro3  ankleMagne1  ankleMagne2  \\\n",
       "0         0.027372    0.010026    0.013753     0.737136     1.134555   \n",
       "1        -0.351592   -1.032808    0.877262    -0.210992    -0.804863   \n",
       "2         0.050018    0.035695   -0.004352     0.515551     0.638528   \n",
       "3         3.080933   -0.213025   -1.720091     0.104544     1.450536   \n",
       "4        -0.003937    0.005874   -0.002954     0.569350    -0.275132   \n",
       "...            ...         ...         ...          ...          ...   \n",
       "534596   -0.741746    0.738288   -0.422473     0.194368    -1.155074   \n",
       "534597    1.671709   -2.808538   -1.501461    -0.360189     1.335589   \n",
       "534598   -0.792196   -0.003788   -0.198810    -1.085757     0.831770   \n",
       "534599   -3.595791    0.621058   -2.744020    -0.279940    -0.593700   \n",
       "534600    0.000946    0.025501    0.001756     1.439027    -0.833537   \n",
       "\n",
       "        ankleMagne3  ankleOrientation1  ankleOrientation2  ankleOrientation3  \\\n",
       "0         -1.145553          -0.510941           0.786246           1.336797   \n",
       "1         -0.896624           0.725106          -0.851330           0.297695   \n",
       "2          0.590981          -0.732416           1.373972           0.262530   \n",
       "3          0.369273           0.186609           1.565125           0.008559   \n",
       "4         -0.208420          -0.628202          -1.176374          -0.146954   \n",
       "...             ...                ...                ...                ...   \n",
       "534596     0.497191          -0.139528          -1.093288           0.733590   \n",
       "534597     0.094996           0.251696           1.345437           0.198171   \n",
       "534598    -0.874481           0.669670           0.696299           1.318086   \n",
       "534599     1.398596          -0.990360          -1.266513          -1.047464   \n",
       "534600     0.025650          -0.120129          -1.109493          -0.221439   \n",
       "\n",
       "        ankleOrientation4  \n",
       "0               -0.708140  \n",
       "1               -0.536677  \n",
       "2                1.674988  \n",
       "3                1.114097  \n",
       "4               -0.890970  \n",
       "...                   ...  \n",
       "534596          -0.296111  \n",
       "534597           1.414949  \n",
       "534598           0.699344  \n",
       "534599          -0.906017  \n",
       "534600          -0.874713  \n",
       "\n",
       "[534601 rows x 51 columns]"
      ]
     },
     "execution_count": 20,
     "metadata": {},
     "output_type": "execute_result"
    }
   ],
   "source": [
    "from sklearn.preprocessing import StandardScaler\n",
    "\n",
    "df_std = StandardScaler().fit_transform(df)\n",
    "\n",
    "scaled_df = pd.DataFrame(df_std, index=df.index, columns=df.columns)\n",
    "scaled_df"
   ]
  },
  {
   "cell_type": "code",
   "execution_count": null,
   "metadata": {
    "colab": {
     "base_uri": "https://localhost:8080/"
    },
    "id": "Sp69ZtvHFI4q",
    "outputId": "b080305d-06ff-43e0-b16a-1da88e5310f3"
   },
   "outputs": [
    {
     "data": {
      "text/plain": [
       "1.0000009352782757"
      ]
     },
     "execution_count": 11,
     "metadata": {},
     "output_type": "execute_result"
    }
   ],
   "source": [
    "scaled_df['handAcc6_2'].std()"
   ]
  },
  {
   "cell_type": "markdown",
   "metadata": {
    "id": "IYAjjfG1hpiH"
   },
   "source": [
    "## Понижение размерности признакового пространства"
   ]
  },
  {
   "cell_type": "markdown",
   "metadata": {
    "id": "iNaEiTNbmdhB"
   },
   "source": [
    "**Для чего используется понижение размерности в данных?**\n",
    "\n",
    "- оптимизация модели\n",
    "- увеличение скорости, уменьшение памяти и времени\n",
    "- для устранения лишних признаков\n",
    "\n",
    "Будьте внимательны так как метод главных компонент чувствителен к масштабированию."
   ]
  },
  {
   "cell_type": "code",
   "execution_count": null,
   "metadata": {
    "colab": {
     "base_uri": "https://localhost:8080/"
    },
    "id": "ZpmP55JNdw-a",
    "outputId": "595e6f73-d7d2-4ae9-cc45-07e3d61c76c2"
   },
   "outputs": [
    {
     "name": "stdout",
     "output_type": "stream",
     "text": [
      "CPU times: user 7.61 s, sys: 1.84 s, total: 9.45 s\n",
      "Wall time: 7.85 s\n"
     ]
    }
   ],
   "source": [
    "%%time\n",
    "from sklearn.decomposition import PCA\n",
    "\n",
    "pca = PCA(n_components=15)\n",
    "\n",
    "principalComponents = pca.fit_transform(scaled_df)\n",
    "\n",
    "principalDf = pd.DataFrame(data = principalComponents)"
   ]
  },
  {
   "cell_type": "code",
   "execution_count": null,
   "metadata": {
    "colab": {
     "base_uri": "https://localhost:8080/",
     "height": 424
    },
    "id": "2i8SAl4heWnL",
    "outputId": "d0b26205-f670-46b0-e895-ac50c6667721"
   },
   "outputs": [
    {
     "data": {
      "text/html": [
       "\n",
       "  <div id=\"df-960eb5a1-900c-4fc3-b10f-b28ba23b2f50\">\n",
       "    <div class=\"colab-df-container\">\n",
       "      <div>\n",
       "<style scoped>\n",
       "    .dataframe tbody tr th:only-of-type {\n",
       "        vertical-align: middle;\n",
       "    }\n",
       "\n",
       "    .dataframe tbody tr th {\n",
       "        vertical-align: top;\n",
       "    }\n",
       "\n",
       "    .dataframe thead th {\n",
       "        text-align: right;\n",
       "    }\n",
       "</style>\n",
       "<table border=\"1\" class=\"dataframe\">\n",
       "  <thead>\n",
       "    <tr style=\"text-align: right;\">\n",
       "      <th></th>\n",
       "      <th>0</th>\n",
       "      <th>1</th>\n",
       "      <th>2</th>\n",
       "      <th>3</th>\n",
       "      <th>4</th>\n",
       "      <th>5</th>\n",
       "      <th>6</th>\n",
       "      <th>7</th>\n",
       "      <th>8</th>\n",
       "      <th>9</th>\n",
       "      <th>10</th>\n",
       "      <th>11</th>\n",
       "      <th>12</th>\n",
       "      <th>13</th>\n",
       "      <th>14</th>\n",
       "    </tr>\n",
       "  </thead>\n",
       "  <tbody>\n",
       "    <tr>\n",
       "      <th>0</th>\n",
       "      <td>-5.828975</td>\n",
       "      <td>0.390132</td>\n",
       "      <td>-0.047990</td>\n",
       "      <td>0.892590</td>\n",
       "      <td>0.668459</td>\n",
       "      <td>-0.551524</td>\n",
       "      <td>0.955733</td>\n",
       "      <td>-0.305086</td>\n",
       "      <td>1.817101</td>\n",
       "      <td>-0.106117</td>\n",
       "      <td>0.815649</td>\n",
       "      <td>1.367057</td>\n",
       "      <td>0.589241</td>\n",
       "      <td>0.453711</td>\n",
       "      <td>0.431464</td>\n",
       "    </tr>\n",
       "    <tr>\n",
       "      <th>1</th>\n",
       "      <td>0.678546</td>\n",
       "      <td>-3.898148</td>\n",
       "      <td>-1.760599</td>\n",
       "      <td>-0.201635</td>\n",
       "      <td>-0.638773</td>\n",
       "      <td>0.525297</td>\n",
       "      <td>-2.867255</td>\n",
       "      <td>1.092066</td>\n",
       "      <td>-0.233476</td>\n",
       "      <td>0.890199</td>\n",
       "      <td>-0.538237</td>\n",
       "      <td>0.277848</td>\n",
       "      <td>0.910352</td>\n",
       "      <td>0.861081</td>\n",
       "      <td>0.810983</td>\n",
       "    </tr>\n",
       "    <tr>\n",
       "      <th>2</th>\n",
       "      <td>-0.042508</td>\n",
       "      <td>2.553251</td>\n",
       "      <td>-1.512931</td>\n",
       "      <td>-1.194781</td>\n",
       "      <td>0.618863</td>\n",
       "      <td>1.913815</td>\n",
       "      <td>0.533486</td>\n",
       "      <td>-0.841446</td>\n",
       "      <td>0.581030</td>\n",
       "      <td>-0.243930</td>\n",
       "      <td>0.575439</td>\n",
       "      <td>-0.756050</td>\n",
       "      <td>0.339046</td>\n",
       "      <td>-2.193381</td>\n",
       "      <td>0.777607</td>\n",
       "    </tr>\n",
       "    <tr>\n",
       "      <th>3</th>\n",
       "      <td>3.708623</td>\n",
       "      <td>1.514171</td>\n",
       "      <td>-0.628669</td>\n",
       "      <td>-0.991430</td>\n",
       "      <td>-1.509230</td>\n",
       "      <td>0.722332</td>\n",
       "      <td>-0.163989</td>\n",
       "      <td>2.267969</td>\n",
       "      <td>1.416560</td>\n",
       "      <td>-2.240186</td>\n",
       "      <td>-0.008126</td>\n",
       "      <td>-0.049255</td>\n",
       "      <td>-0.095358</td>\n",
       "      <td>-0.722608</td>\n",
       "      <td>0.711086</td>\n",
       "    </tr>\n",
       "    <tr>\n",
       "      <th>4</th>\n",
       "      <td>-0.517306</td>\n",
       "      <td>-0.558160</td>\n",
       "      <td>1.160627</td>\n",
       "      <td>2.124654</td>\n",
       "      <td>0.294753</td>\n",
       "      <td>-0.993668</td>\n",
       "      <td>-0.811616</td>\n",
       "      <td>-0.601037</td>\n",
       "      <td>0.505721</td>\n",
       "      <td>0.114768</td>\n",
       "      <td>1.315632</td>\n",
       "      <td>-0.534633</td>\n",
       "      <td>-0.115916</td>\n",
       "      <td>-0.188962</td>\n",
       "      <td>0.395575</td>\n",
       "    </tr>\n",
       "    <tr>\n",
       "      <th>...</th>\n",
       "      <td>...</td>\n",
       "      <td>...</td>\n",
       "      <td>...</td>\n",
       "      <td>...</td>\n",
       "      <td>...</td>\n",
       "      <td>...</td>\n",
       "      <td>...</td>\n",
       "      <td>...</td>\n",
       "      <td>...</td>\n",
       "      <td>...</td>\n",
       "      <td>...</td>\n",
       "      <td>...</td>\n",
       "      <td>...</td>\n",
       "      <td>...</td>\n",
       "      <td>...</td>\n",
       "    </tr>\n",
       "    <tr>\n",
       "      <th>534596</th>\n",
       "      <td>2.817147</td>\n",
       "      <td>-1.332075</td>\n",
       "      <td>1.749637</td>\n",
       "      <td>-0.269027</td>\n",
       "      <td>4.036617</td>\n",
       "      <td>-0.842334</td>\n",
       "      <td>-1.285666</td>\n",
       "      <td>-2.061492</td>\n",
       "      <td>0.674788</td>\n",
       "      <td>0.805070</td>\n",
       "      <td>3.050743</td>\n",
       "      <td>0.576708</td>\n",
       "      <td>-0.811853</td>\n",
       "      <td>0.242557</td>\n",
       "      <td>-1.853530</td>\n",
       "    </tr>\n",
       "    <tr>\n",
       "      <th>534597</th>\n",
       "      <td>0.706770</td>\n",
       "      <td>3.070370</td>\n",
       "      <td>1.817409</td>\n",
       "      <td>-0.609735</td>\n",
       "      <td>-1.631932</td>\n",
       "      <td>2.823155</td>\n",
       "      <td>-0.205627</td>\n",
       "      <td>-0.141763</td>\n",
       "      <td>3.227430</td>\n",
       "      <td>0.687384</td>\n",
       "      <td>-0.471415</td>\n",
       "      <td>-1.592253</td>\n",
       "      <td>0.444447</td>\n",
       "      <td>2.946324</td>\n",
       "      <td>-0.070662</td>\n",
       "    </tr>\n",
       "    <tr>\n",
       "      <th>534598</th>\n",
       "      <td>0.824359</td>\n",
       "      <td>2.170088</td>\n",
       "      <td>-0.833889</td>\n",
       "      <td>-1.948850</td>\n",
       "      <td>0.394678</td>\n",
       "      <td>-0.435913</td>\n",
       "      <td>0.611831</td>\n",
       "      <td>-0.868101</td>\n",
       "      <td>1.240530</td>\n",
       "      <td>-0.880186</td>\n",
       "      <td>0.443931</td>\n",
       "      <td>1.168563</td>\n",
       "      <td>1.421348</td>\n",
       "      <td>0.993302</td>\n",
       "      <td>1.329689</td>\n",
       "    </tr>\n",
       "    <tr>\n",
       "      <th>534599</th>\n",
       "      <td>5.095084</td>\n",
       "      <td>1.380314</td>\n",
       "      <td>6.592033</td>\n",
       "      <td>0.795217</td>\n",
       "      <td>1.641260</td>\n",
       "      <td>-2.311580</td>\n",
       "      <td>1.177481</td>\n",
       "      <td>1.209721</td>\n",
       "      <td>-1.366996</td>\n",
       "      <td>3.801940</td>\n",
       "      <td>-1.221237</td>\n",
       "      <td>-2.220174</td>\n",
       "      <td>1.528058</td>\n",
       "      <td>-2.518667</td>\n",
       "      <td>2.769728</td>\n",
       "    </tr>\n",
       "    <tr>\n",
       "      <th>534600</th>\n",
       "      <td>1.553331</td>\n",
       "      <td>-1.531367</td>\n",
       "      <td>0.342770</td>\n",
       "      <td>2.196254</td>\n",
       "      <td>1.802032</td>\n",
       "      <td>1.581210</td>\n",
       "      <td>0.131849</td>\n",
       "      <td>-0.192620</td>\n",
       "      <td>-0.681540</td>\n",
       "      <td>-0.414919</td>\n",
       "      <td>-0.980157</td>\n",
       "      <td>0.262708</td>\n",
       "      <td>0.269200</td>\n",
       "      <td>-0.803765</td>\n",
       "      <td>-1.123024</td>\n",
       "    </tr>\n",
       "  </tbody>\n",
       "</table>\n",
       "<p>534601 rows × 15 columns</p>\n",
       "</div>\n",
       "      <button class=\"colab-df-convert\" onclick=\"convertToInteractive('df-960eb5a1-900c-4fc3-b10f-b28ba23b2f50')\"\n",
       "              title=\"Convert this dataframe to an interactive table.\"\n",
       "              style=\"display:none;\">\n",
       "        \n",
       "  <svg xmlns=\"http://www.w3.org/2000/svg\" height=\"24px\"viewBox=\"0 0 24 24\"\n",
       "       width=\"24px\">\n",
       "    <path d=\"M0 0h24v24H0V0z\" fill=\"none\"/>\n",
       "    <path d=\"M18.56 5.44l.94 2.06.94-2.06 2.06-.94-2.06-.94-.94-2.06-.94 2.06-2.06.94zm-11 1L8.5 8.5l.94-2.06 2.06-.94-2.06-.94L8.5 2.5l-.94 2.06-2.06.94zm10 10l.94 2.06.94-2.06 2.06-.94-2.06-.94-.94-2.06-.94 2.06-2.06.94z\"/><path d=\"M17.41 7.96l-1.37-1.37c-.4-.4-.92-.59-1.43-.59-.52 0-1.04.2-1.43.59L10.3 9.45l-7.72 7.72c-.78.78-.78 2.05 0 2.83L4 21.41c.39.39.9.59 1.41.59.51 0 1.02-.2 1.41-.59l7.78-7.78 2.81-2.81c.8-.78.8-2.07 0-2.86zM5.41 20L4 18.59l7.72-7.72 1.47 1.35L5.41 20z\"/>\n",
       "  </svg>\n",
       "      </button>\n",
       "      \n",
       "  <style>\n",
       "    .colab-df-container {\n",
       "      display:flex;\n",
       "      flex-wrap:wrap;\n",
       "      gap: 12px;\n",
       "    }\n",
       "\n",
       "    .colab-df-convert {\n",
       "      background-color: #E8F0FE;\n",
       "      border: none;\n",
       "      border-radius: 50%;\n",
       "      cursor: pointer;\n",
       "      display: none;\n",
       "      fill: #1967D2;\n",
       "      height: 32px;\n",
       "      padding: 0 0 0 0;\n",
       "      width: 32px;\n",
       "    }\n",
       "\n",
       "    .colab-df-convert:hover {\n",
       "      background-color: #E2EBFA;\n",
       "      box-shadow: 0px 1px 2px rgba(60, 64, 67, 0.3), 0px 1px 3px 1px rgba(60, 64, 67, 0.15);\n",
       "      fill: #174EA6;\n",
       "    }\n",
       "\n",
       "    [theme=dark] .colab-df-convert {\n",
       "      background-color: #3B4455;\n",
       "      fill: #D2E3FC;\n",
       "    }\n",
       "\n",
       "    [theme=dark] .colab-df-convert:hover {\n",
       "      background-color: #434B5C;\n",
       "      box-shadow: 0px 1px 3px 1px rgba(0, 0, 0, 0.15);\n",
       "      filter: drop-shadow(0px 1px 2px rgba(0, 0, 0, 0.3));\n",
       "      fill: #FFFFFF;\n",
       "    }\n",
       "  </style>\n",
       "\n",
       "      <script>\n",
       "        const buttonEl =\n",
       "          document.querySelector('#df-960eb5a1-900c-4fc3-b10f-b28ba23b2f50 button.colab-df-convert');\n",
       "        buttonEl.style.display =\n",
       "          google.colab.kernel.accessAllowed ? 'block' : 'none';\n",
       "\n",
       "        async function convertToInteractive(key) {\n",
       "          const element = document.querySelector('#df-960eb5a1-900c-4fc3-b10f-b28ba23b2f50');\n",
       "          const dataTable =\n",
       "            await google.colab.kernel.invokeFunction('convertToInteractive',\n",
       "                                                     [key], {});\n",
       "          if (!dataTable) return;\n",
       "\n",
       "          const docLinkHtml = 'Like what you see? Visit the ' +\n",
       "            '<a target=\"_blank\" href=https://colab.research.google.com/notebooks/data_table.ipynb>data table notebook</a>'\n",
       "            + ' to learn more about interactive tables.';\n",
       "          element.innerHTML = '';\n",
       "          dataTable['output_type'] = 'display_data';\n",
       "          await google.colab.output.renderOutput(dataTable, element);\n",
       "          const docLink = document.createElement('div');\n",
       "          docLink.innerHTML = docLinkHtml;\n",
       "          element.appendChild(docLink);\n",
       "        }\n",
       "      </script>\n",
       "    </div>\n",
       "  </div>\n",
       "  "
      ],
      "text/plain": [
       "              0         1         2         3         4         5         6   \\\n",
       "0      -5.828975  0.390132 -0.047990  0.892590  0.668459 -0.551524  0.955733   \n",
       "1       0.678546 -3.898148 -1.760599 -0.201635 -0.638773  0.525297 -2.867255   \n",
       "2      -0.042508  2.553251 -1.512931 -1.194781  0.618863  1.913815  0.533486   \n",
       "3       3.708623  1.514171 -0.628669 -0.991430 -1.509230  0.722332 -0.163989   \n",
       "4      -0.517306 -0.558160  1.160627  2.124654  0.294753 -0.993668 -0.811616   \n",
       "...          ...       ...       ...       ...       ...       ...       ...   \n",
       "534596  2.817147 -1.332075  1.749637 -0.269027  4.036617 -0.842334 -1.285666   \n",
       "534597  0.706770  3.070370  1.817409 -0.609735 -1.631932  2.823155 -0.205627   \n",
       "534598  0.824359  2.170088 -0.833889 -1.948850  0.394678 -0.435913  0.611831   \n",
       "534599  5.095084  1.380314  6.592033  0.795217  1.641260 -2.311580  1.177481   \n",
       "534600  1.553331 -1.531367  0.342770  2.196254  1.802032  1.581210  0.131849   \n",
       "\n",
       "              7         8         9         10        11        12        13  \\\n",
       "0      -0.305086  1.817101 -0.106117  0.815649  1.367057  0.589241  0.453711   \n",
       "1       1.092066 -0.233476  0.890199 -0.538237  0.277848  0.910352  0.861081   \n",
       "2      -0.841446  0.581030 -0.243930  0.575439 -0.756050  0.339046 -2.193381   \n",
       "3       2.267969  1.416560 -2.240186 -0.008126 -0.049255 -0.095358 -0.722608   \n",
       "4      -0.601037  0.505721  0.114768  1.315632 -0.534633 -0.115916 -0.188962   \n",
       "...          ...       ...       ...       ...       ...       ...       ...   \n",
       "534596 -2.061492  0.674788  0.805070  3.050743  0.576708 -0.811853  0.242557   \n",
       "534597 -0.141763  3.227430  0.687384 -0.471415 -1.592253  0.444447  2.946324   \n",
       "534598 -0.868101  1.240530 -0.880186  0.443931  1.168563  1.421348  0.993302   \n",
       "534599  1.209721 -1.366996  3.801940 -1.221237 -2.220174  1.528058 -2.518667   \n",
       "534600 -0.192620 -0.681540 -0.414919 -0.980157  0.262708  0.269200 -0.803765   \n",
       "\n",
       "              14  \n",
       "0       0.431464  \n",
       "1       0.810983  \n",
       "2       0.777607  \n",
       "3       0.711086  \n",
       "4       0.395575  \n",
       "...          ...  \n",
       "534596 -1.853530  \n",
       "534597 -0.070662  \n",
       "534598  1.329689  \n",
       "534599  2.769728  \n",
       "534600 -1.123024  \n",
       "\n",
       "[534601 rows x 15 columns]"
      ]
     },
     "execution_count": 37,
     "metadata": {},
     "output_type": "execute_result"
    }
   ],
   "source": [
    "principalDf"
   ]
  },
  {
   "cell_type": "code",
   "execution_count": null,
   "metadata": {
    "colab": {
     "base_uri": "https://localhost:8080/",
     "height": 668
    },
    "id": "hli_0Imanu8D",
    "outputId": "080c3604-2001-4c21-d2f2-24826c6b3240"
   },
   "outputs": [
    {
     "name": "stderr",
     "output_type": "stream",
     "text": [
      "/usr/local/lib/python3.7/dist-packages/ipykernel_launcher.py:8: DeprecationWarning: `np.bool` is a deprecated alias for the builtin `bool`. To silence this warning, use `bool` by itself. Doing this will not modify any behavior and is safe. If you specifically wanted the numpy scalar type, use `np.bool_` here.\n",
      "Deprecated in NumPy 1.20; for more details and guidance: https://numpy.org/devdocs/release/1.20.0-notes.html#deprecations\n",
      "  \n"
     ]
    },
    {
     "data": {
      "image/png": "[encoded data removed]",
      "text/plain": [
       "<Figure size 1080x720 with 2 Axes>"
      ]
     },
     "metadata": {
      "needs_background": "light"
     },
     "output_type": "display_data"
    }
   ],
   "source": [
    "from pandas.plotting import scatter_matrix\n",
    "import seaborn as sns\n",
    "import numpy as np\n",
    "\n",
    "principalDf_corr = principalDf.corr()\n",
    "\n",
    "f, ax = plt.subplots(figsize=(15, 10))\n",
    "sns.heatmap(principalDf_corr, mask=np.zeros_like(principalDf_corr, dtype=np.bool), cmap = \"BrBG\",ax=ax)\n",
    "plt.show()"
   ]
  },
  {
   "cell_type": "code",
   "execution_count": null,
   "metadata": {
    "colab": {
     "base_uri": "https://localhost:8080/"
    },
    "id": "TzfjM64ceuLq",
    "outputId": "faf1d4ef-96a4-4394-b72f-7d7ba30f559b"
   },
   "outputs": [
    {
     "name": "stdout",
     "output_type": "stream",
     "text": [
      "Explained variation per principal component: [0.17807709 0.07607371 0.06002734 0.05605856 0.05367251 0.04680917\n",
      " 0.04415442 0.03940472 0.03727391 0.03352588 0.03042308 0.02601614\n",
      " 0.02382558 0.02266894 0.02174611]\n"
     ]
    }
   ],
   "source": [
    "print('Explained variation per principal component: {}'.format(pca.explained_variance_ratio_))"
   ]
  },
  {
   "cell_type": "code",
   "execution_count": null,
   "metadata": {
    "colab": {
     "base_uri": "https://localhost:8080/"
    },
    "id": "zsyNZjPQ_jgT",
    "outputId": "a4c04ce5-86d1-4eb0-d687-7b2164789bbd"
   },
   "outputs": [
    {
     "data": {
      "text/plain": [
       "0.7497571714583245"
      ]
     },
     "execution_count": 24,
     "metadata": {},
     "output_type": "execute_result"
    }
   ],
   "source": [
    "evr = pca.explained_variance_ratio_\n",
    "evr.sum()"
   ]
  },
  {
   "cell_type": "code",
   "execution_count": null,
   "metadata": {
    "id": "-zYftuiqfPKY"
   },
   "outputs": [],
   "source": [
    "from sklearn.decomposition import PCA\n",
    "\n",
    "pca = PCA(.85)\n",
    "\n",
    "principalComponents = pca.fit_transform(scaled_df)"
   ]
  },
  {
   "cell_type": "code",
   "execution_count": null,
   "metadata": {
    "colab": {
     "base_uri": "https://localhost:8080/"
    },
    "id": "v30u8HirfWtS",
    "outputId": "cf11d06a-330a-45b2-ff4b-6fd9ea794c36"
   },
   "outputs": [
    {
     "data": {
      "text/plain": [
       "22"
      ]
     },
     "execution_count": 28,
     "metadata": {},
     "output_type": "execute_result"
    }
   ],
   "source": [
    "pca.n_components_ "
   ]
  },
  {
   "cell_type": "code",
   "execution_count": null,
   "metadata": {
    "colab": {
     "base_uri": "https://localhost:8080/"
    },
    "id": "aKfRCi6CgdgX",
    "outputId": "9eb9c0ea-91cf-490f-c153-0122d41d1e97"
   },
   "outputs": [
    {
     "name": "stdout",
     "output_type": "stream",
     "text": [
      "Explained variation per principal component: [0.17807709 0.07607371 0.06002735 0.05605857 0.05367256 0.04680918\n",
      " 0.04415443 0.03940494 0.03727398 0.03352609 0.03042417 0.02601788\n",
      " 0.02382613 0.02268253 0.02176632 0.0205277  0.01860089 0.01785246\n",
      " 0.01505823 0.01436909 0.01361662 0.01261201]\n"
     ]
    }
   ],
   "source": [
    "print('Explained variation per principal component: {}'.format(pca.explained_variance_ratio_))"
   ]
  },
  {
   "cell_type": "code",
   "execution_count": null,
   "metadata": {
    "colab": {
     "base_uri": "https://localhost:8080/",
     "height": 477
    },
    "id": "IdcXlpmi7xwa",
    "outputId": "497b8581-4489-474b-ee72-a6700aefd19a"
   },
   "outputs": [
    {
     "data": {
      "image/png": "[encoded data removed]",
      "text/plain": [
       "<Figure size 720x504 with 1 Axes>"
      ]
     },
     "metadata": {
      "needs_background": "light"
     },
     "output_type": "display_data"
    },
    {
     "name": "stdout",
     "output_type": "stream",
     "text": [
      "CPU times: user 5.34 s, sys: 1.1 s, total: 6.44 s\n",
      "Wall time: 5.68 s\n"
     ]
    }
   ],
   "source": [
    "%%time\n",
    "import numpy as np\n",
    "from sklearn.decomposition import PCA\n",
    "\n",
    "pca = PCA().fit(scaled_df)\n",
    "\n",
    "plt.figure(figsize=(10,7))\n",
    "plt.plot(np.cumsum(pca.explained_variance_ratio_), color='k', lw=2)\n",
    "plt.xlabel('Number of components')\n",
    "plt.ylabel('Total explained variance')\n",
    "plt.xlim(0, 63)\n",
    "plt.yticks(np.arange(0, 1.1, 0.1))\n",
    "plt.axvline(24, c='b')\n",
    "plt.axhline(0.9, c='r')\n",
    "plt.show();"
   ]
  },
  {
   "cell_type": "code",
   "execution_count": null,
   "metadata": {
    "colab": {
     "base_uri": "https://localhost:8080/"
    },
    "id": "4To4MsxHBJ0S",
    "outputId": "2b25d839-4cd3-47bd-e4ca-d5fed94c5edc"
   },
   "outputs": [
    {
     "name": "stdout",
     "output_type": "stream",
     "text": [
      "CPU times: user 9.43 s, sys: 2.1 s, total: 11.5 s\n",
      "Wall time: 10.4 s\n"
     ]
    }
   ],
   "source": [
    "%%time\n",
    "from sklearn.decomposition import PCA\n",
    "\n",
    "pca = PCA(n_components=25)\n",
    "\n",
    "principalComponents = pca.fit_transform(scaled_df)\n",
    "\n",
    "principalDf = pd.DataFrame(data = principalComponents)\n",
    "\n",
    "evr = pca.explained_variance_ratio_\n",
    "evr.sum()"
   ]
  },
  {
   "cell_type": "code",
   "execution_count": null,
   "metadata": {
    "colab": {
     "base_uri": "https://localhost:8080/"
    },
    "id": "ogAeiVb2BUEz",
    "outputId": "6eb7d8d5-c935-49e7-bbf7-1a77cc684878"
   },
   "outputs": [
    {
     "data": {
      "text/plain": [
       "0.8964398120385119"
      ]
     },
     "execution_count": 31,
     "metadata": {},
     "output_type": "execute_result"
    }
   ],
   "source": [
    "evr.sum()"
   ]
  },
  {
   "cell_type": "markdown",
   "metadata": {
    "id": "uNhPCUURCMeA"
   },
   "source": [
    "## Кластеризация"
   ]
  },
  {
   "cell_type": "markdown",
   "metadata": {
    "id": "cK4EDfVuoDws"
   },
   "source": [
    "Для кластеризации в данном примере мы будем использовать **KMeans**."
   ]
  },
  {
   "cell_type": "code",
   "execution_count": null,
   "metadata": {
    "colab": {
     "base_uri": "https://localhost:8080/"
    },
    "id": "BVOmvnMlCOvz",
    "outputId": "cbd0055c-a5ef-4825-fb8f-79e82265ddf1"
   },
   "outputs": [
    {
     "name": "stdout",
     "output_type": "stream",
     "text": [
      "CPU times: user 34.7 s, sys: 1.89 s, total: 36.6 s\n",
      "Wall time: 26.3 s\n"
     ]
    }
   ],
   "source": [
    "%%time\n",
    "from sklearn.cluster import KMeans\n",
    "\n",
    "n_init = 12\n",
    "max_iter = 225\n",
    "tol = 0.0001\n",
    "random_state = 123\n",
    "n_clusters = 6\n",
    "\n",
    "clusterer = KMeans(n_clusters=n_clusters, max_iter = max_iter, random_state = random_state)\n",
    "\n",
    "cluster_labels = clusterer.fit_predict(principalComponents)\n",
    "\n",
    "# inertia\n",
    "inertia = clusterer.inertia_"
   ]
  },
  {
   "cell_type": "code",
   "execution_count": null,
   "metadata": {
    "colab": {
     "base_uri": "https://localhost:8080/"
    },
    "id": "5RJFEFXICT2x",
    "outputId": "20b1fbf7-fa23-4f81-f7d9-113f24ba5774"
   },
   "outputs": [
    {
     "name": "stdout",
     "output_type": "stream",
     "text": [
      "For n_clusters = 6 , the inertia is : 16360674.419654056\n"
     ]
    }
   ],
   "source": [
    "print(\"For n_clusters =\", n_clusters,\n",
    "      \", the inertia is :\", inertia)\n",
    "\n",
    "# 4094519065 - 6 кластеров без PCA\n",
    "# 16360674 - 6 кластеров после PCA"
   ]
  },
  {
   "cell_type": "code",
   "execution_count": null,
   "metadata": {
    "colab": {
     "base_uri": "https://localhost:8080/"
    },
    "id": "f6U_3NQHKoKW",
    "outputId": "c0c022ad-69b3-4fd4-f26b-de7729a9e587"
   },
   "outputs": [
    {
     "name": "stdout",
     "output_type": "stream",
     "text": [
      "CPU times: user 41.1 s, sys: 1.96 s, total: 43 s\n",
      "Wall time: 32.4 s\n"
     ]
    }
   ],
   "source": [
    "%%time\n",
    "from sklearn.cluster import KMeans\n",
    "\n",
    "n_clusters = 6\n",
    "\n",
    "clusterer = KMeans(n_clusters=n_clusters, init='k-means++')\n",
    "\n",
    "cluster_labels = clusterer.fit_predict(scaled_df)\n",
    "\n",
    "# inertia\n",
    "inertia = clusterer.inertia_"
   ]
  },
  {
   "cell_type": "code",
   "execution_count": null,
   "metadata": {
    "colab": {
     "base_uri": "https://localhost:8080/"
    },
    "id": "_GyI8eMlK7xT",
    "outputId": "b93a085e-1959-45a5-d879-fbc049248a1e"
   },
   "outputs": [
    {
     "name": "stdout",
     "output_type": "stream",
     "text": [
      "For n_clusters = 6 , the inertia is : 19141373.9212548\n"
     ]
    }
   ],
   "source": [
    "print(\"For n_clusters =\", n_clusters,\n",
    "      \", the inertia is :\", inertia)\n",
    "\n",
    "# 4094519065\n",
    "# 16966685\n",
    "# 19141373"
   ]
  },
  {
   "cell_type": "code",
   "execution_count": null,
   "metadata": {
    "colab": {
     "base_uri": "https://localhost:8080/",
     "height": 281
    },
    "id": "ZtWUM_BXE-ey",
    "outputId": "58655604-5409-4c06-a0a9-5a3f4d984341"
   },
   "outputs": [
    {
     "data": {
      "image/png": "[encoded data removed]",
      "text/plain": [
       "<Figure size 432x288 with 1 Axes>"
      ]
     },
     "metadata": {
      "needs_background": "light"
     },
     "output_type": "display_data"
    }
   ],
   "source": [
    "%%time\n",
    "from sklearn.cluster import KMeans\n",
    "from sklearn.metrics import silhouette_score\n",
    "\n",
    "inertia = []\n",
    "silhouette_coefficients = []\n",
    "\n",
    "for k in range(3, 12):\n",
    "    kmeans = KMeans(n_clusters=k, random_state=1).fit(principalComponents)\n",
    "    inertia.append(np.sqrt(kmeans.inertia_))\n",
    "    score = silhouette_score(scaled_features, kmeans.labels_)\n",
    "    silhouette_coefficients.append(score)\n",
    "\n",
    "plt.plot(range(3, 12), inertia, marker='s');\n",
    "plt.xlabel('$k$')\n",
    "plt.ylabel('$J(C_k)$');"
   ]
  },
  {
   "cell_type": "code",
   "execution_count": null,
   "metadata": {
    "id": "lmNBarkgH0uU"
   },
   "outputs": [],
   "source": [
    "plt.style.use(\"fivethirtyeight\")\n",
    "plt.plot(range(3, 12), silhouette_coefficients)\n",
    "plt.xticks(range(3, 12))\n",
    "plt.xlabel(\"Number of Clusters\")\n",
    "plt.ylabel(\"Silhouette Coefficient\")\n",
    "plt.show()"
   ]
  },
  {
   "cell_type": "code",
   "execution_count": null,
   "metadata": {
    "colab": {
     "base_uri": "https://localhost:8080/",
     "height": 299
    },
    "id": "If-aZ1NqsIp8",
    "outputId": "5ae90f7e-2e75-4689-9802-4ed093c6ef90"
   },
   "outputs": [
    {
     "data": {
      "text/html": [
       "\n",
       "  <div id=\"df-6652bf59-d23f-4b18-a75f-8059d7dc603d\">\n",
       "    <div class=\"colab-df-container\">\n",
       "      <div>\n",
       "<style scoped>\n",
       "    .dataframe tbody tr th:only-of-type {\n",
       "        vertical-align: middle;\n",
       "    }\n",
       "\n",
       "    .dataframe tbody tr th {\n",
       "        vertical-align: top;\n",
       "    }\n",
       "\n",
       "    .dataframe thead th {\n",
       "        text-align: right;\n",
       "    }\n",
       "</style>\n",
       "<table border=\"1\" class=\"dataframe\">\n",
       "  <thead>\n",
       "    <tr style=\"text-align: right;\">\n",
       "      <th></th>\n",
       "      <th>handTemperature</th>\n",
       "      <th>handAcc16_1</th>\n",
       "      <th>handAcc16_2</th>\n",
       "      <th>handAcc16_3</th>\n",
       "      <th>handAcc6_1</th>\n",
       "      <th>handAcc6_2</th>\n",
       "      <th>handAcc6_3</th>\n",
       "      <th>handGyro1</th>\n",
       "      <th>handGyro2</th>\n",
       "      <th>handGyro3</th>\n",
       "      <th>...</th>\n",
       "      <th>ankleGyro1</th>\n",
       "      <th>ankleGyro2</th>\n",
       "      <th>ankleGyro3</th>\n",
       "      <th>ankleMagne1</th>\n",
       "      <th>ankleMagne2</th>\n",
       "      <th>ankleMagne3</th>\n",
       "      <th>ankleOrientation1</th>\n",
       "      <th>ankleOrientation2</th>\n",
       "      <th>ankleOrientation3</th>\n",
       "      <th>ankleOrientation4</th>\n",
       "    </tr>\n",
       "  </thead>\n",
       "  <tbody>\n",
       "    <tr>\n",
       "      <th>0</th>\n",
       "      <td>34.8750</td>\n",
       "      <td>0.902847</td>\n",
       "      <td>7.45872</td>\n",
       "      <td>6.032490</td>\n",
       "      <td>1.006100</td>\n",
       "      <td>7.44575</td>\n",
       "      <td>6.303650</td>\n",
       "      <td>-0.021952</td>\n",
       "      <td>0.004114</td>\n",
       "      <td>-0.000752</td>\n",
       "      <td>...</td>\n",
       "      <td>0.043954</td>\n",
       "      <td>-0.025606</td>\n",
       "      <td>0.030239</td>\n",
       "      <td>-14.5447</td>\n",
       "      <td>27.3336</td>\n",
       "      <td>-5.76620</td>\n",
       "      <td>0.206416</td>\n",
       "      <td>0.348212</td>\n",
       "      <td>0.763201</td>\n",
       "      <td>-0.503652</td>\n",
       "    </tr>\n",
       "    <tr>\n",
       "      <th>1</th>\n",
       "      <td>29.7500</td>\n",
       "      <td>-4.069330</td>\n",
       "      <td>3.76168</td>\n",
       "      <td>8.279720</td>\n",
       "      <td>-5.972500</td>\n",
       "      <td>3.22273</td>\n",
       "      <td>6.908970</td>\n",
       "      <td>0.116054</td>\n",
       "      <td>-0.375968</td>\n",
       "      <td>-0.012890</td>\n",
       "      <td>...</td>\n",
       "      <td>-0.319186</td>\n",
       "      <td>-0.670163</td>\n",
       "      <td>1.786200</td>\n",
       "      <td>-32.8257</td>\n",
       "      <td>-15.7719</td>\n",
       "      <td>-1.31395</td>\n",
       "      <td>0.578332</td>\n",
       "      <td>-0.566734</td>\n",
       "      <td>0.405888</td>\n",
       "      <td>-0.423791</td>\n",
       "    </tr>\n",
       "    <tr>\n",
       "      <th>2</th>\n",
       "      <td>34.3750</td>\n",
       "      <td>-2.007540</td>\n",
       "      <td>-9.60180</td>\n",
       "      <td>0.773674</td>\n",
       "      <td>-1.803500</td>\n",
       "      <td>-9.58937</td>\n",
       "      <td>1.073680</td>\n",
       "      <td>0.020131</td>\n",
       "      <td>0.042189</td>\n",
       "      <td>-0.011507</td>\n",
       "      <td>...</td>\n",
       "      <td>0.065654</td>\n",
       "      <td>-0.009741</td>\n",
       "      <td>-0.006579</td>\n",
       "      <td>-18.8171</td>\n",
       "      <td>16.3089</td>\n",
       "      <td>25.29280</td>\n",
       "      <td>0.139776</td>\n",
       "      <td>0.676586</td>\n",
       "      <td>0.393796</td>\n",
       "      <td>0.606316</td>\n",
       "    </tr>\n",
       "    <tr>\n",
       "      <th>3</th>\n",
       "      <td>31.9375</td>\n",
       "      <td>-13.262200</td>\n",
       "      <td>5.85443</td>\n",
       "      <td>0.899334</td>\n",
       "      <td>-13.611500</td>\n",
       "      <td>5.91511</td>\n",
       "      <td>0.840377</td>\n",
       "      <td>1.715630</td>\n",
       "      <td>-0.050492</td>\n",
       "      <td>-1.829000</td>\n",
       "      <td>...</td>\n",
       "      <td>2.970010</td>\n",
       "      <td>-0.163470</td>\n",
       "      <td>-3.495570</td>\n",
       "      <td>-26.7418</td>\n",
       "      <td>34.3566</td>\n",
       "      <td>21.32740</td>\n",
       "      <td>0.416303</td>\n",
       "      <td>0.783387</td>\n",
       "      <td>0.306464</td>\n",
       "      <td>0.345075</td>\n",
       "    </tr>\n",
       "    <tr>\n",
       "      <th>4</th>\n",
       "      <td>33.5000</td>\n",
       "      <td>-0.013940</td>\n",
       "      <td>8.66540</td>\n",
       "      <td>4.398210</td>\n",
       "      <td>0.144153</td>\n",
       "      <td>8.56816</td>\n",
       "      <td>4.822200</td>\n",
       "      <td>-0.006938</td>\n",
       "      <td>-0.007383</td>\n",
       "      <td>-0.032679</td>\n",
       "      <td>...</td>\n",
       "      <td>0.013953</td>\n",
       "      <td>-0.028172</td>\n",
       "      <td>-0.003737</td>\n",
       "      <td>-17.7798</td>\n",
       "      <td>-3.9981</td>\n",
       "      <td>10.99500</td>\n",
       "      <td>0.171133</td>\n",
       "      <td>-0.748343</td>\n",
       "      <td>0.252988</td>\n",
       "      <td>-0.588807</td>\n",
       "    </tr>\n",
       "  </tbody>\n",
       "</table>\n",
       "<p>5 rows × 51 columns</p>\n",
       "</div>\n",
       "      <button class=\"colab-df-convert\" onclick=\"convertToInteractive('df-6652bf59-d23f-4b18-a75f-8059d7dc603d')\"\n",
       "              title=\"Convert this dataframe to an interactive table.\"\n",
       "              style=\"display:none;\">\n",
       "        \n",
       "  <svg xmlns=\"http://www.w3.org/2000/svg\" height=\"24px\"viewBox=\"0 0 24 24\"\n",
       "       width=\"24px\">\n",
       "    <path d=\"M0 0h24v24H0V0z\" fill=\"none\"/>\n",
       "    <path d=\"M18.56 5.44l.94 2.06.94-2.06 2.06-.94-2.06-.94-.94-2.06-.94 2.06-2.06.94zm-11 1L8.5 8.5l.94-2.06 2.06-.94-2.06-.94L8.5 2.5l-.94 2.06-2.06.94zm10 10l.94 2.06.94-2.06 2.06-.94-2.06-.94-.94-2.06-.94 2.06-2.06.94z\"/><path d=\"M17.41 7.96l-1.37-1.37c-.4-.4-.92-.59-1.43-.59-.52 0-1.04.2-1.43.59L10.3 9.45l-7.72 7.72c-.78.78-.78 2.05 0 2.83L4 21.41c.39.39.9.59 1.41.59.51 0 1.02-.2 1.41-.59l7.78-7.78 2.81-2.81c.8-.78.8-2.07 0-2.86zM5.41 20L4 18.59l7.72-7.72 1.47 1.35L5.41 20z\"/>\n",
       "  </svg>\n",
       "      </button>\n",
       "      \n",
       "  <style>\n",
       "    .colab-df-container {\n",
       "      display:flex;\n",
       "      flex-wrap:wrap;\n",
       "      gap: 12px;\n",
       "    }\n",
       "\n",
       "    .colab-df-convert {\n",
       "      background-color: #E8F0FE;\n",
       "      border: none;\n",
       "      border-radius: 50%;\n",
       "      cursor: pointer;\n",
       "      display: none;\n",
       "      fill: #1967D2;\n",
       "      height: 32px;\n",
       "      padding: 0 0 0 0;\n",
       "      width: 32px;\n",
       "    }\n",
       "\n",
       "    .colab-df-convert:hover {\n",
       "      background-color: #E2EBFA;\n",
       "      box-shadow: 0px 1px 2px rgba(60, 64, 67, 0.3), 0px 1px 3px 1px rgba(60, 64, 67, 0.15);\n",
       "      fill: #174EA6;\n",
       "    }\n",
       "\n",
       "    [theme=dark] .colab-df-convert {\n",
       "      background-color: #3B4455;\n",
       "      fill: #D2E3FC;\n",
       "    }\n",
       "\n",
       "    [theme=dark] .colab-df-convert:hover {\n",
       "      background-color: #434B5C;\n",
       "      box-shadow: 0px 1px 3px 1px rgba(0, 0, 0, 0.15);\n",
       "      filter: drop-shadow(0px 1px 2px rgba(0, 0, 0, 0.3));\n",
       "      fill: #FFFFFF;\n",
       "    }\n",
       "  </style>\n",
       "\n",
       "      <script>\n",
       "        const buttonEl =\n",
       "          document.querySelector('#df-6652bf59-d23f-4b18-a75f-8059d7dc603d button.colab-df-convert');\n",
       "        buttonEl.style.display =\n",
       "          google.colab.kernel.accessAllowed ? 'block' : 'none';\n",
       "\n",
       "        async function convertToInteractive(key) {\n",
       "          const element = document.querySelector('#df-6652bf59-d23f-4b18-a75f-8059d7dc603d');\n",
       "          const dataTable =\n",
       "            await google.colab.kernel.invokeFunction('convertToInteractive',\n",
       "                                                     [key], {});\n",
       "          if (!dataTable) return;\n",
       "\n",
       "          const docLinkHtml = 'Like what you see? Visit the ' +\n",
       "            '<a target=\"_blank\" href=https://colab.research.google.com/notebooks/data_table.ipynb>data table notebook</a>'\n",
       "            + ' to learn more about interactive tables.';\n",
       "          element.innerHTML = '';\n",
       "          dataTable['output_type'] = 'display_data';\n",
       "          await google.colab.output.renderOutput(dataTable, element);\n",
       "          const docLink = document.createElement('div');\n",
       "          docLink.innerHTML = docLinkHtml;\n",
       "          element.appendChild(docLink);\n",
       "        }\n",
       "      </script>\n",
       "    </div>\n",
       "  </div>\n",
       "  "
      ],
      "text/plain": [
       "   handTemperature  handAcc16_1  handAcc16_2  handAcc16_3  handAcc6_1  \\\n",
       "0          34.8750     0.902847      7.45872     6.032490    1.006100   \n",
       "1          29.7500    -4.069330      3.76168     8.279720   -5.972500   \n",
       "2          34.3750    -2.007540     -9.60180     0.773674   -1.803500   \n",
       "3          31.9375   -13.262200      5.85443     0.899334  -13.611500   \n",
       "4          33.5000    -0.013940      8.66540     4.398210    0.144153   \n",
       "\n",
       "   handAcc6_2  handAcc6_3  handGyro1  handGyro2  handGyro3  ...  ankleGyro1  \\\n",
       "0     7.44575    6.303650  -0.021952   0.004114  -0.000752  ...    0.043954   \n",
       "1     3.22273    6.908970   0.116054  -0.375968  -0.012890  ...   -0.319186   \n",
       "2    -9.58937    1.073680   0.020131   0.042189  -0.011507  ...    0.065654   \n",
       "3     5.91511    0.840377   1.715630  -0.050492  -1.829000  ...    2.970010   \n",
       "4     8.56816    4.822200  -0.006938  -0.007383  -0.032679  ...    0.013953   \n",
       "\n",
       "   ankleGyro2  ankleGyro3  ankleMagne1  ankleMagne2  ankleMagne3  \\\n",
       "0   -0.025606    0.030239     -14.5447      27.3336     -5.76620   \n",
       "1   -0.670163    1.786200     -32.8257     -15.7719     -1.31395   \n",
       "2   -0.009741   -0.006579     -18.8171      16.3089     25.29280   \n",
       "3   -0.163470   -3.495570     -26.7418      34.3566     21.32740   \n",
       "4   -0.028172   -0.003737     -17.7798      -3.9981     10.99500   \n",
       "\n",
       "   ankleOrientation1  ankleOrientation2  ankleOrientation3  ankleOrientation4  \n",
       "0           0.206416           0.348212           0.763201          -0.503652  \n",
       "1           0.578332          -0.566734           0.405888          -0.423791  \n",
       "2           0.139776           0.676586           0.393796           0.606316  \n",
       "3           0.416303           0.783387           0.306464           0.345075  \n",
       "4           0.171133          -0.748343           0.252988          -0.588807  \n",
       "\n",
       "[5 rows x 51 columns]"
      ]
     },
     "execution_count": 38,
     "metadata": {},
     "output_type": "execute_result"
    }
   ],
   "source": [
    "df.head()"
   ]
  },
  {
   "cell_type": "code",
   "execution_count": null,
   "metadata": {
    "id": "CHusH2DjRmhZ"
   },
   "outputs": [],
   "source": [
    "scaled_df_hand = scaled_df['handTemperature', 'handAcc16_1', 'handAcc16_2',\n",
    "                           'handAcc16_3', 'handAcc6_1', 'handAcc6_2', 'handAcc6_3', 'handGyro1',\n",
    "                           'handGyro2', 'handGyro3', 'handMagne1', 'handMagne2', 'handMagne3',\n",
    "                           'handOrientation1', 'handOrientation2', 'handOrientation3', 'handOrientation4']\n",
    "\n",
    "scaled_df_chest = scaled_df['chestTemperature', 'chestAcc16_1', 'chestAcc16_2',\n",
    "                            'chestAcc16_3', 'chestAcc6_1', 'chestAcc6_2', 'chestAcc6_3',\n",
    "                            'chestGyro1', 'chestGyro2', 'chestGyro3', 'chestMagne1', 'chestMagne2',\n",
    "                            'chestMagne3', 'chestOrientation1', 'chestOrientation2',\n",
    "                            'chestOrientation3', 'chestOrientation4']\n",
    "\n",
    "scaled_df_ankle = scaled_df['ankleTemperature', 'ankleAcc16_1', 'ankleAcc16_2', 'ankleAcc16_3', 'ankleAcc6_1',\n",
    "                            'ankleAcc6_2', 'ankleAcc6_3', 'ankleGyro1', 'ankleGyro2', 'ankleGyro3',\n",
    "                            'ankleMagne1', 'ankleMagne2', 'ankleMagne3', 'ankleOrientation1',\n",
    "                            'ankleOrientation2', 'ankleOrientation3', 'ankleOrientation4'] "
   ]
  },
  {
   "cell_type": "code",
   "execution_count": null,
   "metadata": {
    "id": "3ckvrazrSUjk"
   },
   "outputs": [],
   "source": [
    "from sklearn.cluster import KMeans\n",
    "\n",
    "inertia_hand = []\n",
    "\n",
    "for k in range(3, 15):\n",
    "    kmeans = KMeans(n_clusters=k, random_state=1).fit(scaled_df_hand)\n",
    "    inertia_hand.append(np.sqrt(kmeans.inertia_))\n",
    "\n",
    "plt.plot(range(3, 15), inertia_hand, marker='s');\n",
    "plt.xlabel('$k$')\n",
    "plt.ylabel('$J(C_k)$');"
   ]
  },
  {
   "cell_type": "code",
   "execution_count": null,
   "metadata": {
    "id": "m5h3O1wMSjfp"
   },
   "outputs": [],
   "source": [
    "inertia_chest = []\n",
    "\n",
    "for k in range(3, 15):\n",
    "    kmeans = KMeans(n_clusters=k, random_state=1).fit(scaled_df_chest)\n",
    "    inertia_chest.append(np.sqrt(kmeans.inertia_))\n",
    "\n",
    "plt.plot(range(3, 15), inertia_chest, marker='s');\n",
    "plt.xlabel('$k$')\n",
    "plt.ylabel('$J(C_k)$');"
   ]
  },
  {
   "cell_type": "code",
   "execution_count": null,
   "metadata": {
    "id": "8gok6QgWSp-8"
   },
   "outputs": [],
   "source": [
    "inertia_ankle = []\n",
    "\n",
    "for k in range(3, 15):\n",
    "    kmeans = KMeans(n_clusters=k, random_state=1).fit(scaled_df_ankle)\n",
    "    inertia_ankle.append(np.sqrt(kmeans.inertia_))\n",
    "\n",
    "plt.plot(range(3, 15), inertia_ankle, marker='s');\n",
    "plt.xlabel('$k$')\n",
    "plt.ylabel('$J(C_k)$');"
   ]
  },
  {
   "cell_type": "markdown",
   "metadata": {
    "id": "td4SJ8px1JXc"
   },
   "source": [
    "## Подготовка ответов"
   ]
  },
  {
   "cell_type": "code",
   "execution_count": null,
   "metadata": {
    "colab": {
     "base_uri": "https://localhost:8080/",
     "height": 424
    },
    "id": "OSO0rvFXD7vQ",
    "outputId": "3a55698d-7c01-408f-bb03-f517dedbd62a"
   },
   "outputs": [
    {
     "data": {
      "text/html": [
       "\n",
       "  <div id=\"df-49d81109-56f9-4a24-bba2-c723a4ad6603\">\n",
       "    <div class=\"colab-df-container\">\n",
       "      <div>\n",
       "<style scoped>\n",
       "    .dataframe tbody tr th:only-of-type {\n",
       "        vertical-align: middle;\n",
       "    }\n",
       "\n",
       "    .dataframe tbody tr th {\n",
       "        vertical-align: top;\n",
       "    }\n",
       "\n",
       "    .dataframe thead th {\n",
       "        text-align: right;\n",
       "    }\n",
       "</style>\n",
       "<table border=\"1\" class=\"dataframe\">\n",
       "  <thead>\n",
       "    <tr style=\"text-align: right;\">\n",
       "      <th></th>\n",
       "      <th>index</th>\n",
       "      <th>activityID</th>\n",
       "    </tr>\n",
       "  </thead>\n",
       "  <tbody>\n",
       "    <tr>\n",
       "      <th>0</th>\n",
       "      <td>0</td>\n",
       "      <td>2</td>\n",
       "    </tr>\n",
       "    <tr>\n",
       "      <th>1</th>\n",
       "      <td>1</td>\n",
       "      <td>3</td>\n",
       "    </tr>\n",
       "    <tr>\n",
       "      <th>2</th>\n",
       "      <td>2</td>\n",
       "      <td>0</td>\n",
       "    </tr>\n",
       "    <tr>\n",
       "      <th>3</th>\n",
       "      <td>3</td>\n",
       "      <td>0</td>\n",
       "    </tr>\n",
       "    <tr>\n",
       "      <th>4</th>\n",
       "      <td>4</td>\n",
       "      <td>4</td>\n",
       "    </tr>\n",
       "    <tr>\n",
       "      <th>...</th>\n",
       "      <td>...</td>\n",
       "      <td>...</td>\n",
       "    </tr>\n",
       "    <tr>\n",
       "      <th>534596</th>\n",
       "      <td>534596</td>\n",
       "      <td>3</td>\n",
       "    </tr>\n",
       "    <tr>\n",
       "      <th>534597</th>\n",
       "      <td>534597</td>\n",
       "      <td>0</td>\n",
       "    </tr>\n",
       "    <tr>\n",
       "      <th>534598</th>\n",
       "      <td>534598</td>\n",
       "      <td>0</td>\n",
       "    </tr>\n",
       "    <tr>\n",
       "      <th>534599</th>\n",
       "      <td>534599</td>\n",
       "      <td>5</td>\n",
       "    </tr>\n",
       "    <tr>\n",
       "      <th>534600</th>\n",
       "      <td>534600</td>\n",
       "      <td>3</td>\n",
       "    </tr>\n",
       "  </tbody>\n",
       "</table>\n",
       "<p>534601 rows × 2 columns</p>\n",
       "</div>\n",
       "      <button class=\"colab-df-convert\" onclick=\"convertToInteractive('df-49d81109-56f9-4a24-bba2-c723a4ad6603')\"\n",
       "              title=\"Convert this dataframe to an interactive table.\"\n",
       "              style=\"display:none;\">\n",
       "        \n",
       "  <svg xmlns=\"http://www.w3.org/2000/svg\" height=\"24px\"viewBox=\"0 0 24 24\"\n",
       "       width=\"24px\">\n",
       "    <path d=\"M0 0h24v24H0V0z\" fill=\"none\"/>\n",
       "    <path d=\"M18.56 5.44l.94 2.06.94-2.06 2.06-.94-2.06-.94-.94-2.06-.94 2.06-2.06.94zm-11 1L8.5 8.5l.94-2.06 2.06-.94-2.06-.94L8.5 2.5l-.94 2.06-2.06.94zm10 10l.94 2.06.94-2.06 2.06-.94-2.06-.94-.94-2.06-.94 2.06-2.06.94z\"/><path d=\"M17.41 7.96l-1.37-1.37c-.4-.4-.92-.59-1.43-.59-.52 0-1.04.2-1.43.59L10.3 9.45l-7.72 7.72c-.78.78-.78 2.05 0 2.83L4 21.41c.39.39.9.59 1.41.59.51 0 1.02-.2 1.41-.59l7.78-7.78 2.81-2.81c.8-.78.8-2.07 0-2.86zM5.41 20L4 18.59l7.72-7.72 1.47 1.35L5.41 20z\"/>\n",
       "  </svg>\n",
       "      </button>\n",
       "      \n",
       "  <style>\n",
       "    .colab-df-container {\n",
       "      display:flex;\n",
       "      flex-wrap:wrap;\n",
       "      gap: 12px;\n",
       "    }\n",
       "\n",
       "    .colab-df-convert {\n",
       "      background-color: #E8F0FE;\n",
       "      border: none;\n",
       "      border-radius: 50%;\n",
       "      cursor: pointer;\n",
       "      display: none;\n",
       "      fill: #1967D2;\n",
       "      height: 32px;\n",
       "      padding: 0 0 0 0;\n",
       "      width: 32px;\n",
       "    }\n",
       "\n",
       "    .colab-df-convert:hover {\n",
       "      background-color: #E2EBFA;\n",
       "      box-shadow: 0px 1px 2px rgba(60, 64, 67, 0.3), 0px 1px 3px 1px rgba(60, 64, 67, 0.15);\n",
       "      fill: #174EA6;\n",
       "    }\n",
       "\n",
       "    [theme=dark] .colab-df-convert {\n",
       "      background-color: #3B4455;\n",
       "      fill: #D2E3FC;\n",
       "    }\n",
       "\n",
       "    [theme=dark] .colab-df-convert:hover {\n",
       "      background-color: #434B5C;\n",
       "      box-shadow: 0px 1px 3px 1px rgba(0, 0, 0, 0.15);\n",
       "      filter: drop-shadow(0px 1px 2px rgba(0, 0, 0, 0.3));\n",
       "      fill: #FFFFFF;\n",
       "    }\n",
       "  </style>\n",
       "\n",
       "      <script>\n",
       "        const buttonEl =\n",
       "          document.querySelector('#df-49d81109-56f9-4a24-bba2-c723a4ad6603 button.colab-df-convert');\n",
       "        buttonEl.style.display =\n",
       "          google.colab.kernel.accessAllowed ? 'block' : 'none';\n",
       "\n",
       "        async function convertToInteractive(key) {\n",
       "          const element = document.querySelector('#df-49d81109-56f9-4a24-bba2-c723a4ad6603');\n",
       "          const dataTable =\n",
       "            await google.colab.kernel.invokeFunction('convertToInteractive',\n",
       "                                                     [key], {});\n",
       "          if (!dataTable) return;\n",
       "\n",
       "          const docLinkHtml = 'Like what you see? Visit the ' +\n",
       "            '<a target=\"_blank\" href=https://colab.research.google.com/notebooks/data_table.ipynb>data table notebook</a>'\n",
       "            + ' to learn more about interactive tables.';\n",
       "          element.innerHTML = '';\n",
       "          dataTable['output_type'] = 'display_data';\n",
       "          await google.colab.output.renderOutput(dataTable, element);\n",
       "          const docLink = document.createElement('div');\n",
       "          docLink.innerHTML = docLinkHtml;\n",
       "          element.appendChild(docLink);\n",
       "        }\n",
       "      </script>\n",
       "    </div>\n",
       "  </div>\n",
       "  "
      ],
      "text/plain": [
       "         index  activityID\n",
       "0            0           2\n",
       "1            1           3\n",
       "2            2           0\n",
       "3            3           0\n",
       "4            4           4\n",
       "...        ...         ...\n",
       "534596  534596           3\n",
       "534597  534597           0\n",
       "534598  534598           0\n",
       "534599  534599           5\n",
       "534600  534600           3\n",
       "\n",
       "[534601 rows x 2 columns]"
      ]
     },
     "execution_count": 40,
     "metadata": {},
     "output_type": "execute_result"
    }
   ],
   "source": [
    "predictions = pd.DataFrame(cluster_labels, columns=['activityID'])\n",
    "predictions = predictions.reset_index()\n",
    "\n",
    "predictions"
   ]
  },
  {
   "cell_type": "code",
   "execution_count": null,
   "metadata": {
    "colab": {
     "base_uri": "https://localhost:8080/"
    },
    "id": "2QOktEDAEWFo",
    "outputId": "421cd0e0-48af-4e16-ddbf-fedd92f57159"
   },
   "outputs": [
    {
     "data": {
      "text/plain": [
       "array([2, 3, 0, 4, 1, 5], dtype=int32)"
      ]
     },
     "execution_count": 41,
     "metadata": {},
     "output_type": "execute_result"
    }
   ],
   "source": [
    "predictions['activityID'].unique()"
   ]
  },
  {
   "cell_type": "markdown",
   "metadata": {
    "id": "UNghpQg12lAD"
   },
   "source": [
    "**Пример того как преобразовать номера кластеров.**"
   ]
  },
  {
   "cell_type": "code",
   "execution_count": null,
   "metadata": {
    "colab": {
     "base_uri": "https://localhost:8080/"
    },
    "id": "35Hn5LNxFw-V",
    "outputId": "e0ef9331-f3ff-4367-a42d-3f48c5c9e6d5"
   },
   "outputs": [
    {
     "data": {
      "text/plain": [
       "2    132954\n",
       "3    115410\n",
       "1     87782\n",
       "4     70184\n",
       "5     66009\n",
       "6     62262\n",
       "Name: new, dtype: int64"
      ]
     },
     "execution_count": 42,
     "metadata": {},
     "output_type": "execute_result"
    }
   ],
   "source": [
    "import numpy as np\n",
    "\n",
    "one = 2\n",
    "two = 3\n",
    "three = 0\n",
    "four = 4\n",
    "five = 1\n",
    "six = 5\n",
    "\n",
    "predictions['new'] = np.where(predictions['activityID'] == one, 1,\n",
    "                      np.where(predictions['activityID'] == two, 2,\n",
    "                               np.where(predictions['activityID'] == three, 3,\n",
    "                                        np.where(predictions['activityID'] == four, 4,\n",
    "                                                 np.where(predictions['activityID'] == five, 5,\n",
    "                                                          np.where(predictions['activityID'] == six, 6, -1))))))\n",
    "predictions['new'].value_counts()"
   ]
  },
  {
   "cell_type": "code",
   "execution_count": null,
   "metadata": {
    "colab": {
     "base_uri": "https://localhost:8080/"
    },
    "id": "er-RiBifpVC5",
    "outputId": "c00db1cf-6e8c-4834-f873-1987bc17bfa9"
   },
   "outputs": [
    {
     "data": {
      "text/plain": [
       "array([1, 2, 3, 4, 5, 6])"
      ]
     },
     "execution_count": 43,
     "metadata": {},
     "output_type": "execute_result"
    }
   ],
   "source": [
    "predictions = predictions.drop(columns=['activityID'])\n",
    "\n",
    "predictions = predictions.rename(columns={\"new\": \"activityID\"})\n",
    "predictions.head()\n",
    "\n",
    "predictions['activityID'].unique()"
   ]
  },
  {
   "cell_type": "code",
   "execution_count": null,
   "metadata": {
    "colab": {
     "base_uri": "https://localhost:8080/",
     "height": 424
    },
    "id": "9s-RTvDJu7j0",
    "outputId": "2e6ce2de-400f-4e70-93ba-bba7ff3ed1bb"
   },
   "outputs": [
    {
     "data": {
      "text/html": [
       "\n",
       "  <div id=\"df-ad3c9309-49e5-44dd-bcab-b7a2ffa6e744\">\n",
       "    <div class=\"colab-df-container\">\n",
       "      <div>\n",
       "<style scoped>\n",
       "    .dataframe tbody tr th:only-of-type {\n",
       "        vertical-align: middle;\n",
       "    }\n",
       "\n",
       "    .dataframe tbody tr th {\n",
       "        vertical-align: top;\n",
       "    }\n",
       "\n",
       "    .dataframe thead th {\n",
       "        text-align: right;\n",
       "    }\n",
       "</style>\n",
       "<table border=\"1\" class=\"dataframe\">\n",
       "  <thead>\n",
       "    <tr style=\"text-align: right;\">\n",
       "      <th></th>\n",
       "      <th>index</th>\n",
       "      <th>activityID</th>\n",
       "    </tr>\n",
       "  </thead>\n",
       "  <tbody>\n",
       "    <tr>\n",
       "      <th>0</th>\n",
       "      <td>0</td>\n",
       "      <td>1</td>\n",
       "    </tr>\n",
       "    <tr>\n",
       "      <th>1</th>\n",
       "      <td>1</td>\n",
       "      <td>2</td>\n",
       "    </tr>\n",
       "    <tr>\n",
       "      <th>2</th>\n",
       "      <td>2</td>\n",
       "      <td>3</td>\n",
       "    </tr>\n",
       "    <tr>\n",
       "      <th>3</th>\n",
       "      <td>3</td>\n",
       "      <td>3</td>\n",
       "    </tr>\n",
       "    <tr>\n",
       "      <th>4</th>\n",
       "      <td>4</td>\n",
       "      <td>4</td>\n",
       "    </tr>\n",
       "    <tr>\n",
       "      <th>...</th>\n",
       "      <td>...</td>\n",
       "      <td>...</td>\n",
       "    </tr>\n",
       "    <tr>\n",
       "      <th>534596</th>\n",
       "      <td>534596</td>\n",
       "      <td>2</td>\n",
       "    </tr>\n",
       "    <tr>\n",
       "      <th>534597</th>\n",
       "      <td>534597</td>\n",
       "      <td>3</td>\n",
       "    </tr>\n",
       "    <tr>\n",
       "      <th>534598</th>\n",
       "      <td>534598</td>\n",
       "      <td>3</td>\n",
       "    </tr>\n",
       "    <tr>\n",
       "      <th>534599</th>\n",
       "      <td>534599</td>\n",
       "      <td>6</td>\n",
       "    </tr>\n",
       "    <tr>\n",
       "      <th>534600</th>\n",
       "      <td>534600</td>\n",
       "      <td>2</td>\n",
       "    </tr>\n",
       "  </tbody>\n",
       "</table>\n",
       "<p>534601 rows × 2 columns</p>\n",
       "</div>\n",
       "      <button class=\"colab-df-convert\" onclick=\"convertToInteractive('df-ad3c9309-49e5-44dd-bcab-b7a2ffa6e744')\"\n",
       "              title=\"Convert this dataframe to an interactive table.\"\n",
       "              style=\"display:none;\">\n",
       "        \n",
       "  <svg xmlns=\"http://www.w3.org/2000/svg\" height=\"24px\"viewBox=\"0 0 24 24\"\n",
       "       width=\"24px\">\n",
       "    <path d=\"M0 0h24v24H0V0z\" fill=\"none\"/>\n",
       "    <path d=\"M18.56 5.44l.94 2.06.94-2.06 2.06-.94-2.06-.94-.94-2.06-.94 2.06-2.06.94zm-11 1L8.5 8.5l.94-2.06 2.06-.94-2.06-.94L8.5 2.5l-.94 2.06-2.06.94zm10 10l.94 2.06.94-2.06 2.06-.94-2.06-.94-.94-2.06-.94 2.06-2.06.94z\"/><path d=\"M17.41 7.96l-1.37-1.37c-.4-.4-.92-.59-1.43-.59-.52 0-1.04.2-1.43.59L10.3 9.45l-7.72 7.72c-.78.78-.78 2.05 0 2.83L4 21.41c.39.39.9.59 1.41.59.51 0 1.02-.2 1.41-.59l7.78-7.78 2.81-2.81c.8-.78.8-2.07 0-2.86zM5.41 20L4 18.59l7.72-7.72 1.47 1.35L5.41 20z\"/>\n",
       "  </svg>\n",
       "      </button>\n",
       "      \n",
       "  <style>\n",
       "    .colab-df-container {\n",
       "      display:flex;\n",
       "      flex-wrap:wrap;\n",
       "      gap: 12px;\n",
       "    }\n",
       "\n",
       "    .colab-df-convert {\n",
       "      background-color: #E8F0FE;\n",
       "      border: none;\n",
       "      border-radius: 50%;\n",
       "      cursor: pointer;\n",
       "      display: none;\n",
       "      fill: #1967D2;\n",
       "      height: 32px;\n",
       "      padding: 0 0 0 0;\n",
       "      width: 32px;\n",
       "    }\n",
       "\n",
       "    .colab-df-convert:hover {\n",
       "      background-color: #E2EBFA;\n",
       "      box-shadow: 0px 1px 2px rgba(60, 64, 67, 0.3), 0px 1px 3px 1px rgba(60, 64, 67, 0.15);\n",
       "      fill: #174EA6;\n",
       "    }\n",
       "\n",
       "    [theme=dark] .colab-df-convert {\n",
       "      background-color: #3B4455;\n",
       "      fill: #D2E3FC;\n",
       "    }\n",
       "\n",
       "    [theme=dark] .colab-df-convert:hover {\n",
       "      background-color: #434B5C;\n",
       "      box-shadow: 0px 1px 3px 1px rgba(0, 0, 0, 0.15);\n",
       "      filter: drop-shadow(0px 1px 2px rgba(0, 0, 0, 0.3));\n",
       "      fill: #FFFFFF;\n",
       "    }\n",
       "  </style>\n",
       "\n",
       "      <script>\n",
       "        const buttonEl =\n",
       "          document.querySelector('#df-ad3c9309-49e5-44dd-bcab-b7a2ffa6e744 button.colab-df-convert');\n",
       "        buttonEl.style.display =\n",
       "          google.colab.kernel.accessAllowed ? 'block' : 'none';\n",
       "\n",
       "        async function convertToInteractive(key) {\n",
       "          const element = document.querySelector('#df-ad3c9309-49e5-44dd-bcab-b7a2ffa6e744');\n",
       "          const dataTable =\n",
       "            await google.colab.kernel.invokeFunction('convertToInteractive',\n",
       "                                                     [key], {});\n",
       "          if (!dataTable) return;\n",
       "\n",
       "          const docLinkHtml = 'Like what you see? Visit the ' +\n",
       "            '<a target=\"_blank\" href=https://colab.research.google.com/notebooks/data_table.ipynb>data table notebook</a>'\n",
       "            + ' to learn more about interactive tables.';\n",
       "          element.innerHTML = '';\n",
       "          dataTable['output_type'] = 'display_data';\n",
       "          await google.colab.output.renderOutput(dataTable, element);\n",
       "          const docLink = document.createElement('div');\n",
       "          docLink.innerHTML = docLinkHtml;\n",
       "          element.appendChild(docLink);\n",
       "        }\n",
       "      </script>\n",
       "    </div>\n",
       "  </div>\n",
       "  "
      ],
      "text/plain": [
       "         index  activityID\n",
       "0            0           1\n",
       "1            1           2\n",
       "2            2           3\n",
       "3            3           3\n",
       "4            4           4\n",
       "...        ...         ...\n",
       "534596  534596           2\n",
       "534597  534597           3\n",
       "534598  534598           3\n",
       "534599  534599           6\n",
       "534600  534600           2\n",
       "\n",
       "[534601 rows x 2 columns]"
      ]
     },
     "execution_count": 44,
     "metadata": {},
     "output_type": "execute_result"
    }
   ],
   "source": [
    "predictions"
   ]
  },
  {
   "cell_type": "code",
   "execution_count": null,
   "metadata": {
    "colab": {
     "base_uri": "https://localhost:8080/",
     "height": 17
    },
    "id": "1S0XsaFkpZE2",
    "outputId": "77ede055-561d-4a02-846f-e817bf337019"
   },
   "outputs": [
    {
     "data": {
      "application/javascript": [
       "\n",
       "    async function download(id, filename, size) {\n",
       "      if (!google.colab.kernel.accessAllowed) {\n",
       "        return;\n",
       "      }\n",
       "      const div = document.createElement('div');\n",
       "      const label = document.createElement('label');\n",
       "      label.textContent = `Downloading \"${filename}\": `;\n",
       "      div.appendChild(label);\n",
       "      const progress = document.createElement('progress');\n",
       "      progress.max = size;\n",
       "      div.appendChild(progress);\n",
       "      document.body.appendChild(div);\n",
       "\n",
       "      const buffers = [];\n",
       "      let downloaded = 0;\n",
       "\n",
       "      const channel = await google.colab.kernel.comms.open(id);\n",
       "      // Send a message to notify the kernel that we're ready.\n",
       "      channel.send({})\n",
       "\n",
       "      for await (const message of channel.messages) {\n",
       "        // Send a message to notify the kernel that we're ready.\n",
       "        channel.send({})\n",
       "        if (message.buffers) {\n",
       "          for (const buffer of message.buffers) {\n",
       "            buffers.push(buffer);\n",
       "            downloaded += buffer.byteLength;\n",
       "            progress.value = downloaded;\n",
       "          }\n",
       "        }\n",
       "      }\n",
       "      const blob = new Blob(buffers, {type: 'application/binary'});\n",
       "      const a = document.createElement('a');\n",
       "      a.href = window.URL.createObjectURL(blob);\n",
       "      a.download = filename;\n",
       "      div.appendChild(a);\n",
       "      a.click();\n",
       "      div.remove();\n",
       "    }\n",
       "  "
      ],
      "text/plain": [
       "<IPython.core.display.Javascript object>"
      ]
     },
     "metadata": {},
     "output_type": "display_data"
    },
    {
     "data": {
      "application/javascript": [
       "download(\"download_f834746d-2760-4714-b5ef-999cb6f08df8\", \"solution.csv\", 4700316)"
      ],
      "text/plain": [
       "<IPython.core.display.Javascript object>"
      ]
     },
     "metadata": {},
     "output_type": "display_data"
    }
   ],
   "source": [
    "from google.colab import files\n",
    "\n",
    "predictions.to_csv(\"solution.csv\", index=False)\n",
    "\n",
    "files.download(\"solution.csv\")"
   ]
  }
 ],
 "metadata": {
  "colab": {
   "provenance": []
  },
  "kernelspec": {
   "display_name": "Python 3 (ipykernel)",
   "language": "python",
   "name": "python3"
  },
  "language_info": {
   "codemirror_mode": {
    "name": "ipython",
    "version": 3
   },
   "file_extension": ".py",
   "mimetype": "text/x-python",
   "name": "python",
   "nbconvert_exporter": "python",
   "pygments_lexer": "ipython3",
   "version": "3.9.13"
  }
 },
 "nbformat": 4,
 "nbformat_minor": 1
}
